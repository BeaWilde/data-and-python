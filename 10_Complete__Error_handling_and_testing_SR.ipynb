{
  "nbformat": 4,
  "nbformat_minor": 0,
  "metadata": {
    "colab": {
      "provenance": [],
      "include_colab_link": true
    },
    "kernelspec": {
      "name": "python3",
      "display_name": "Python 3"
    },
    "language_info": {
      "name": "python"
    }
  },
  "cells": [
    {
      "cell_type": "markdown",
      "metadata": {
        "id": "view-in-github",
        "colab_type": "text"
      },
      "source": [
        "<a href=\"https://colab.research.google.com/github/BeaWilde/data-and-python/blob/main/10_Complete__Error_handling_and_testing_SR.ipynb\" target=\"_parent\"><img src=\"https://colab.research.google.com/assets/colab-badge.svg\" alt=\"Open In Colab\"/></a>"
      ]
    },
    {
      "cell_type": "markdown",
      "metadata": {
        "id": "llhPjzuu7KLX"
      },
      "source": [
        "# Dealing with errors\n",
        "---\n",
        "\n",
        "There are various types of error that a well written function will handle but which can sometimes be forgotten.\n",
        "\n",
        "Errors can be categorised into:\n",
        "*  Syntax errors  \n",
        "errors in the code that stop it from being interpreted and run - these are often picked up by the code editor, or by Python when it tries to translate the code before running it  \n",
        "\n",
        "*  Logic errors  \n",
        "these are hard to pick up and rely on good testing or user feedback.  A logic error will result in 'wrong' data or functionality  \n",
        "\n",
        "*  Runtime errors  \n",
        "these are generally caused by operations that work perfectly well with the 'right' data but fall over if they encounter the 'wrong' data.\n",
        "\n",
        "\n"
      ]
    },
    {
      "cell_type": "markdown",
      "source": [
        "---\n",
        "\n",
        "### Exercise 1  \n",
        "\n",
        "The code below has a `syntax` error.  Correct the error and run the code."
      ],
      "metadata": {
        "id": "YClc6urF6Tav"
      }
    },
    {
      "cell_type": "code",
      "metadata": {
        "id": "fqvRJOFz7HEs",
        "colab": {
          "base_uri": "https://localhost:8080/"
        },
        "outputId": "afc6c980-825e-4eb0-fd8f-48acdfe05eda"
      },
      "source": [
        "def get_list():\n",
        "  mylist = [\"red\",'yellow','pink',\"green\",'orange',\"purple\",\"blue\"]\n",
        "  return mylist\n",
        "\n",
        "print(get_list())"
      ],
      "execution_count": null,
      "outputs": [
        {
          "output_type": "stream",
          "name": "stdout",
          "text": [
            "['red', 'yellow', 'pink', 'green', 'orange', 'purple', 'blue']\n"
          ]
        }
      ]
    },
    {
      "cell_type": "markdown",
      "metadata": {
        "id": "G8fVmU5h86Dn"
      },
      "source": [
        "---\n",
        "### Exercise 2\n",
        "\n",
        "\n",
        "The code below has a `logic` error.  The function is being run by a test, which will fail on first run.  Correct the error and run the code to get the test to pass."
      ]
    },
    {
      "cell_type": "code",
      "metadata": {
        "id": "irDAREWJ9AdV",
        "colab": {
          "base_uri": "https://localhost:8080/"
        },
        "outputId": "4d3de650-69b8-4420-b82f-e70363df9669"
      },
      "source": [
        "def calculate_average(nums):\n",
        "  total = 0\n",
        "  for num in nums:\n",
        "    total += num\n",
        "  return total / len(nums)\n",
        "\n",
        "# Test\n",
        "actual = calculate_average([4,2,6,8,3,1])\n",
        "expected = 4\n",
        "if  actual == expected:\n",
        "  print(\"Test passed\")\n",
        "else:\n",
        "  print(\"Test failed, expected\", expected, \"but got\", actual)"
      ],
      "execution_count": null,
      "outputs": [
        {
          "output_type": "stream",
          "name": "stdout",
          "text": [
            "Test passed\n"
          ]
        }
      ]
    },
    {
      "cell_type": "markdown",
      "metadata": {
        "id": "sBXNkQqJ9bX-"
      },
      "source": [
        "---\n",
        "### Exercise 3\n",
        "\n",
        "\n",
        "The code below does not have any errors and will run perfectly well, until it receives some data that doesn't fit what it is expecting.  Run the code, entering the number 16, it will crash (a runtime error) because the Python input() function always returns a string, which can't be divided.  One solution is to convert the input to an integer.  This will deal with the input problem in most cases.  \n",
        "\n",
        "Make a change to the function code to convert the input into an int.  Then run the test again, there should be no runtime error and the test should now pass."
      ]
    },
    {
      "cell_type": "code",
      "metadata": {
        "id": "1A5DkNo59ZZA",
        "colab": {
          "base_uri": "https://localhost:8080/"
        },
        "outputId": "d02aafd2-f6ca-4edd-8216-81dd5024e8a5"
      },
      "source": [
        "def get_user_input():\n",
        "  user_input = input(\"Please enter a number \")\n",
        "  return user_input\n",
        "\n",
        "### Test 1 - user enters 16 ###\n",
        "print(\"Test 1 - with valid integer\")\n",
        "actual = int(get_user_input()) / 2\n",
        "expected = 8\n",
        "if  actual == expected:\n",
        "  print(\"Test passed\")\n",
        "else:\n",
        "  print(\"Test failed, expected\", expected, \"but got\", actual)\n"
      ],
      "execution_count": null,
      "outputs": [
        {
          "output_type": "stream",
          "name": "stdout",
          "text": [
            "Test 1 - with valid integer\n",
            "Please enter a number 16\n",
            "Test passed\n"
          ]
        }
      ]
    },
    {
      "cell_type": "markdown",
      "metadata": {
        "id": "1UI44hURAgf2"
      },
      "source": [
        "---\n",
        "### Exercise 4\n",
        "\n",
        "\n",
        "The solution you have just implemented will solve the known problem that input() always returns a string, BUT, what if the user actually enters something that isn't a number?  Run the code below, it will crash with the input **six** but we don't want users to be informed of an input error by the program crashing!\n",
        "\n",
        "This error is not a given (like inputs always being strings) it has to be anticipated as a possibility.  \n",
        "\n",
        "In these cases - often from any form of input not being of the right type, including from the user, a file, an API call, a database read or function parameters - we want to try to handle the error and to allow the program to deal with it gracefully, instead of crashing.\n",
        "\n",
        "Most programming languages have instructions for handling runtime errors like this.  In any situation where there is potential for runtime errors, you can use:  \n",
        "\n",
        "```\n",
        "try:\n",
        "  # code to run\n",
        "except:\n",
        "  # what to do if there is an error, to handle the problem gracefully and move on\n",
        "```\n",
        "If a runtime error occurs at any point within the `try` section, processing will switch to the `except` section and run the code there (this might report the problem to the user, then stop so that processing continues from before the try, or it might log the error, inform the user and shut the program down).  What is done in the `except` section depends on the severity of the error and its effect on the further running of the program (ie data might be corrupted at this point and so it is not advisable to continue).  \n",
        "\n",
        "In the example below, the runtime error occurs when it is trying to divide numbers that are not valid, so we will use `try: .. except: ..` in the function to ensure that a valid number is always returned and that an error message to the user is shown if the input was invalid.  For this example, if there is an invalid input we will return 0 (so we are always returning a valid input but it will result in 0 when divided so for the purposes of this example, this will do)\n",
        "\n",
        "### Add a second test for invalid integers\n",
        "\n",
        "Add a second test to the code below:\n",
        "\n",
        "This test should expect that the result is 0 when the user enters a word, such as `six`.\n",
        "\n",
        "The code below now has two tests, the first expects the user to enter 16 and the second expects the user to enter the word *six*\n",
        "\n",
        "Run the code, first enter 16 and you should see that the first test still passes, even though the code has been changed to include the `try...except`.  \n",
        "\n",
        "You will be asked to enter a number again (as there are 2 tests).  Enter `six` and you should see that this test also passes, but should see an error message letting you know that this was an invalid number.  The code is doing exactly what it should do:  \n",
        "\n",
        "```\n",
        "Test 1 - with valid integer\n",
        "Please enter a number 16\n",
        "Test passed\n",
        "\n",
        "Test 2 - with invalid integer\n",
        "Please enter a number six\n",
        "Invalid number, run the function again\n",
        "Test passed\n",
        "```"
      ]
    },
    {
      "cell_type": "code",
      "metadata": {
        "id": "2ce-rQZ6gmBM",
        "colab": {
          "base_uri": "https://localhost:8080/"
        },
        "outputId": "23b864b7-5045-4003-ade0-61b8d9757025"
      },
      "source": [
        "def get_user_input():\n",
        "  try:\n",
        "    user_input = int(input(\"Please enter a number 16 \"))\n",
        "    return user_input\n",
        "  except:\n",
        "    print(\"Invalid number, run the function again\")\n",
        "    return 0\n",
        "\n",
        "### Test 1 - user enters 16 ###\n",
        "print(\"Test 1 - with valid integer\")\n",
        "actual = get_user_input() / 2\n",
        "expected = 8\n",
        "if  actual == expected:\n",
        "  print(\"Test passed\")\n",
        "else:\n",
        "  print(\"Test failed, expected\", expected, \"but got\", actual)\n",
        "\n",
        "### Test 2 - user enters six ###\n",
        "print(\"Test 2 - with invalid integer\")\n",
        "# ADD YOUR TEST CODE HERE #\n",
        "try:\n",
        "  incorrect_input = int(input(\"Please enter a number six \"))\n",
        "  actual = incorrect_input / 2\n",
        "  expected = 3\n",
        "  if  actual == expected:\n",
        "    print(\"Test passed\")\n",
        "  else:\n",
        "    print(\"Test failed, expected\", expected, \"but got\", actual)\n",
        "except:\n",
        "  print(\"Invalid number, run the function again\")"
      ],
      "execution_count": null,
      "outputs": [
        {
          "output_type": "stream",
          "name": "stdout",
          "text": [
            "Test 1 - with valid integer\n",
            "Please enter a number 16 16\n",
            "Test passed\n",
            "Test 2 - with invalid integer\n",
            "Please enter a number six six\n",
            "Invalid number, run the function again\n"
          ]
        }
      ]
    },
    {
      "cell_type": "markdown",
      "metadata": {
        "id": "QmeO2NR0gpYi"
      },
      "source": [
        "---\n",
        "### Exercise 5 - add a third test\n",
        "\n",
        "\n",
        "Add a Test 3, to test for the user just pressing enter and not entering anything at all. The expected result will be the same as Test 2\n",
        "\n"
      ]
    },
    {
      "cell_type": "code",
      "metadata": {
        "id": "z69J6BTDBCMG",
        "colab": {
          "base_uri": "https://localhost:8080/"
        },
        "outputId": "4474b2e2-47c2-4899-b887-3964b9930655"
      },
      "source": [
        "def get_user_input():\n",
        "  try:\n",
        "    user_input = int(input(\"Please enter a number \"))\n",
        "    return user_input\n",
        "  except:\n",
        "    print(\"Invalid number, run the function again\")\n",
        "    return 0\n",
        "\n",
        "### Test 1 - user enters 16 ###\n",
        "print(\"Test 1 - with valid integer\")\n",
        "actual = get_user_input() / 2\n",
        "expected = 8\n",
        "if  actual == expected:\n",
        "  print(\"Test passed\")\n",
        "else:\n",
        "  print(\"Test failed, expected\", expected, \"but got\", actual)\n",
        "\n",
        "### Test 2 - user enters six ###\n",
        "print(\"Test 2 - with invalid integer\")\n",
        "try:\n",
        "  incorrect_input = int(input(\"Please enter a number six \"))\n",
        "  actual_input = incorrect_input / 2\n",
        "  expected_input = 3\n",
        "  if  actual_input == expected_input:\n",
        "    print(\"Test passed\")\n",
        "  else:\n",
        "    print(\"Test failed, expected\", expected, \"but got\", actual)\n",
        "except:\n",
        "  print(\"Invalid number, run the function again\")\n",
        "\n",
        "### Test 3 - user enters nothing ###\n",
        "print(\"Test 3 - with empty integer\")\n",
        "try:\n",
        "  empty_input = int(input(\"Please enter nothing\"))\n",
        "  actual_empty_input = empty_input / 2\n",
        "  expected_empty_input = 3\n",
        "  if  actual_empty_input == expected_empty_input:\n",
        "    print(\"Test passed\")\n",
        "  else:\n",
        "    print(\"Test failed, expected\", expected, \"but got\", actual)\n",
        "except:\n",
        "  print(\"Invalid number, run the function again\")\n",
        "\n",
        "\n"
      ],
      "execution_count": null,
      "outputs": [
        {
          "output_type": "stream",
          "name": "stdout",
          "text": [
            "Test 1 - with valid integer\n",
            "Please enter a number 16\n",
            "Test passed\n",
            "Test 2 - with invalid integer\n",
            "Please enter a number six six\n",
            "Invalid number, run the function again\n",
            "Test 3 - with empty integer\n",
            "Please enter nothing\n",
            "Invalid number, run the function again\n"
          ]
        }
      ]
    },
    {
      "cell_type": "markdown",
      "metadata": {
        "id": "Ol_Z4kRpJEVr"
      },
      "source": [
        "---\n",
        "### Exercise 6 - opening a file\n",
        "\n",
        "\n",
        "Write a function that will return an open file if it is given the file name.  If the file doesn't exist, a message should be shown to the user and the function should return None.  If the file does exist, and is opened correctly, the function should return the file to the caller.  \n",
        "\n",
        "The code has been started for you and two tests have been written.  \n",
        "\n",
        "Run the program with the second test commented out, to test that it works if the file doesn't exist (this assumes that you don't have a file called `error.txt` in the same directory as this notebook.  \n",
        "\n",
        "Now create a text file called **valid_file.txt** and upload it into this notebook.  Uncomment the second test and run again.  Both tests should now pass.\n",
        "\n",
        "*Note*:  The tests look a little different now - this time instead of comparing actual with expected, the test looks at if the actual result is None or not None.  This is because it is impossible to tell what result will be returned for a valid file, as this is dependent on the file and the operating system.  It is sufficient to know that the file is opened if it exists and that the program doesn't crash if it doesn't.\n",
        "\n"
      ]
    },
    {
      "cell_type": "code",
      "metadata": {
        "id": "F2syhzV7KzB7",
        "colab": {
          "base_uri": "https://localhost:8080/"
        },
        "outputId": "42f6c45b-ca23-40a9-baca-30dff251f569"
      },
      "source": [
        "import os\n",
        "\n",
        "def get_file(filename):\n",
        "  # add your code here to open the file and return it, or to print an error message and return None\n",
        "  try:\n",
        "    file = open(filename)\n",
        "    return file\n",
        "  except:\n",
        "    print(\"File does not exist\")\n",
        "    return None\n",
        "\n",
        "# Test 1 - try to open a file that doesn't exist\n",
        "print(\"Test 1 file doesn't exist\")\n",
        "actual = get_file(\"error.txt\")\n",
        "if actual is None:\n",
        "  print(\"Test passed\")\n",
        "else:\n",
        "  print(\"Test failed, should have received None\")\n",
        "\n",
        "# Test 2 - try to open a file that does exist\n",
        "print(\"\\nTest 2 file does exist\")\n",
        "actual = get_file(\"valid_file.txt\")\n",
        "if actual is not None:\n",
        "  print(\"Test passed\")\n",
        "else:\n",
        "  print(\"Test failed, should have received file\")"
      ],
      "execution_count": null,
      "outputs": [
        {
          "output_type": "stream",
          "name": "stdout",
          "text": [
            "Test 1 file doesn't exist\n",
            "File does not exist\n",
            "Test passed\n",
            "\n",
            "Test 2 file does exist\n",
            "Test passed\n"
          ]
        }
      ]
    },
    {
      "cell_type": "markdown",
      "metadata": {
        "id": "OACfOBCiRJkZ"
      },
      "source": [
        "---\n",
        "### Exercise 7 - write a test\n",
        "\n",
        "\n",
        "The function in the code cell below will take two parameters (two integers), and will return the result of dividing the first by the second, rounded to 2 decimal places.  If either isn't a number, it will return -999999  (not an impossible answer but improbable).\n",
        "\n",
        "Write a test for this function that will run it with the numbers 15 and 3 and will expect the answer to be 5."
      ]
    },
    {
      "cell_type": "code",
      "metadata": {
        "id": "HScLyIF4SY6o",
        "colab": {
          "base_uri": "https://localhost:8080/"
        },
        "outputId": "e22db35d-e777-4dbd-aaeb-92eb5b349b4e"
      },
      "source": [
        "def divide_nums(num1, num2):\n",
        "  try:\n",
        "    answer = num1 / num2\n",
        "    return answer\n",
        "  except:\n",
        "    return -999999\n",
        "\n",
        "  # Test 1 - works with valid numbers (15 divided by 3 is 5)\n",
        "print(\"Test 1\")\n",
        "actual = divide_nums(15, 3)\n",
        "expected = 5\n",
        "if  actual == expected:\n",
        "  print(\"Test passed\")\n",
        "else:\n",
        "  print(\"Test failed, expected\", expected, \"but got\", actual)\n"
      ],
      "execution_count": 65,
      "outputs": [
        {
          "output_type": "stream",
          "name": "stdout",
          "text": [
            "Test 1\n",
            "Test passed\n"
          ]
        }
      ]
    },
    {
      "cell_type": "markdown",
      "metadata": {
        "id": "eYfYXH9PTA5W"
      },
      "source": [
        "---\n",
        "### Exercise 8 - add two more tests\n",
        "\n",
        "\n",
        "Add two more tests for this function:\n",
        "\n",
        "*Test 2* - Test running the function with the numbers `(20, 0.3)` and expect the answer to be `66.67`\n",
        "\n",
        "*Test 3* - Test running the function with `(20, None)` and expect the answer to be `-999999`\n",
        "\n",
        "Run the tests and then **modify the function** so that the test using the numbers `(20, 0.3)` passes."
      ]
    },
    {
      "cell_type": "code",
      "metadata": {
        "id": "zYD_a_dlWIbf",
        "colab": {
          "base_uri": "https://localhost:8080/"
        },
        "outputId": "aef59710-87d0-47a5-b836-65ba1ab49e9f"
      },
      "source": [
        "from genericpath import isfile\n",
        "def divide_nums(num1, num2):\n",
        "  try:\n",
        "    answer = num1 / num2\n",
        "    return answer\n",
        "  except:\n",
        "    return -999999\n",
        "\n",
        "  # Test 1\n",
        "print(\"Test 1\")\n",
        "actual = divide_nums(15, 3)\n",
        "expected = 5\n",
        "if actual == expected:\n",
        "  print(\"test passed\")\n",
        "else:\n",
        "  print(\"-999999\")\n",
        "\n",
        "\n",
        " # Test 2\n",
        "print(\"Test 2\")\n",
        "actual = divide_nums(20, 0.3)\n",
        "rounded_actual = round(actual, 2)\n",
        "expected = 66.67\n",
        "if rounded_actual == expected:\n",
        "  print(\"test passed\")\n",
        "else:\n",
        "  print(\"-999999\")\n",
        "\n",
        "  # Test 3\n",
        "print(\"Test 3\")\n",
        "actual = divide_nums(20, None)\n",
        "expected = -999999\n",
        "if actual == expected:\n",
        "  print(\"test passed\")\n",
        "else:\n",
        "  print(\"-999999\")"
      ],
      "execution_count": 76,
      "outputs": [
        {
          "output_type": "stream",
          "name": "stdout",
          "text": [
            "Test 1\n",
            "test passed\n",
            "Test 2\n",
            "test passed\n",
            "Test 3\n",
            "test passed\n"
          ]
        }
      ]
    },
    {
      "cell_type": "markdown",
      "metadata": {
        "id": "ZaluV9ejWUqs"
      },
      "source": [
        "---\n",
        "### Exercise 9 - function with `try..except` and test\n",
        "\n",
        "\n",
        "Write a function called **find_list_average(numlist, listname)** that will accept a list of numbers `(numlist)` and a word representing the name of the list `(listname)`.  The function will calculate the average of `numlist` and will return the string \"The average of the numbers in \" + `listname` + \" is \" + `str(average)` + \".\"\n",
        "\n",
        "Use `try..except` to catch any runtime errors that might occur and return `\"There was a problem\"` if any do.\n",
        "\n",
        "Write a set of tests for this function to test that:  \n",
        "*  a valid set of numbers, with a valid name works\n",
        "*  it catches the error if the parameters are round the wrong way `(listname, numlist)` rather than `(numlist, listname)`\n",
        "*  it catches the error is the list is empty (which might result in dividing by 0)\n",
        "*  it catches the error if the numlist contains null values (None)\n",
        "*  it shows the result `The average of the numbers in unnamed list is 4.5.` if the listname is an empty string.  Note:  this test may well fail unless you had code in your function to deal with the string being empty.  This is a logic error - change the code so that if the listname is \"\" it will be set to \"unnamed list\".  Then run the tests again, they should all pass."
      ]
    },
    {
      "cell_type": "code",
      "source": [
        "def find_list_average(numlist, listname):\n",
        "  try:\n",
        "    if listname == \"\":\n",
        "      listname = \"unnamed list\"\n",
        "      total = 0\n",
        "      for num in numlist:\n",
        "        total += num\n",
        "      average = total / len(numlist)\n",
        "      return \"The average of the numbers in \" + listname + \" is \" + str(average) + \".\"\n",
        "    else:\n",
        "      total = 0\n",
        "      for num in numlist:\n",
        "        total += num\n",
        "      average = total / len(numlist)\n",
        "      return \"The average of the numbers in \" + listname + \" is \" + str(average) + \".\"\n",
        "  except:\n",
        "    return print(\"There was a problem\")\n",
        "\n",
        "  #test 1\n",
        "print(\"Test 1\")\n",
        "actual = find_list_average([4,2,6,9,4,2], \"testlist\")\n",
        "expected = \"The average of the numbers in testlist is 4.5.\"\n",
        "\n",
        "if actual == expected:\n",
        "  print(\"Test passed\")\n",
        "else:\n",
        "  print(\"Test failed, expected\", expected, \"but got\", actual)\n",
        "\n",
        "  #test 2\n",
        "print(\"Test 2\")\n",
        "actual = find_list_average(\"testlist\", [4,2,6,9,4,2])\n",
        "expected = \"The average of the numbers in testlist is 4.5.\"\n",
        "\n",
        "if actual == expected:\n",
        "  print(\"Test passed\")\n",
        "else:\n",
        "  print(\"Test failed, expected\", expected, \"but got\", actual)\n",
        "\n",
        "  #test 3\n",
        "print(\"Test 3\")\n",
        "actual = find_list_average([], \"testlist\")\n",
        "expected = \"The average of the numbers in testlist is 4.5.\"\n",
        "\n",
        "if actual == expected:\n",
        "  print(\"Test passed\")\n",
        "else:\n",
        "  print(\"Test failed, expected\", expected, \"but got\", actual)\n",
        "\n",
        "  #test 4\n",
        "print(\"Test 4\")\n",
        "actual = find_list_average([None], \"testlist\")\n",
        "expected = \"The average of the numbers in testlist is 4.5.\"\n",
        "\n",
        "if actual == expected:\n",
        "  print(\"Test passed\")\n",
        "else:\n",
        "  print(\"Test failed, expected\", expected, \"but got\", actual)\n",
        "\n",
        "  #test 5\n",
        "print(\"Test 5\")\n",
        "actual = find_list_average([4,2,6,9,4,2], \"\")\n",
        "expected = \"The average of the numbers in unnamed list is 4.5.\"\n",
        "\n",
        "if actual == expected:\n",
        "  print(\"Test passed\")\n",
        "else:\n",
        "  print(\"Test failed, expected\", expected, \"but got\", actual)\n"
      ],
      "metadata": {
        "colab": {
          "base_uri": "https://localhost:8080/"
        },
        "id": "iAugg0cE6xlr",
        "outputId": "e4591ab2-bae2-49aa-e622-aa2730358833"
      },
      "execution_count": 121,
      "outputs": [
        {
          "output_type": "stream",
          "name": "stdout",
          "text": [
            "Test 1\n",
            "Test passed\n",
            "Test 2\n",
            "There was a problem\n",
            "Test failed, expected The average of the numbers in testlist is 4.5. but got None\n",
            "Test 3\n",
            "There was a problem\n",
            "Test failed, expected The average of the numbers in testlist is 4.5. but got None\n",
            "Test 4\n",
            "There was a problem\n",
            "Test failed, expected The average of the numbers in testlist is 4.5. but got None\n",
            "Test 5\n",
            "Test passed\n"
          ]
        }
      ]
    },
    {
      "cell_type": "markdown",
      "metadata": {
        "id": "PFbTeF6ZrHoP"
      },
      "source": [
        "---\n",
        "### Exercise 10 - further reference\n",
        "\n",
        "You might want to look at this tutorial for more on [exception handling](https://www.python-course.eu/python3_exception_handling.php)\n",
        "\n",
        "and this tutorial for more on [test driven development](https://www.tutorialspoint.com/software_testing_dictionary/test_driven_development.htm)"
      ]
    },
    {
      "cell_type": "markdown",
      "metadata": {
        "id": "yQyytEbnZ1lw"
      },
      "source": [
        "----\n",
        "# Takeaways\n",
        "\n",
        "*  syntax errors are errors in the use of the language and are picked up in the code cell (red underlining tends to indicate a syntax error)\n",
        "*  logic errors cause the output of the code to be incorrect and are identified through testing\n",
        "*  runtime errors cause the code to crash unless they are caught using try..except\n",
        "*  try - run the code in the hope that nothing will crash\n",
        "*  except - if the code does crash, deal with it by generating an error message or doing something else\n",
        "*  we can test the output of functions by running them over and over again with different data, if tests fail then we know we need to look for a logic error."
      ]
    },
    {
      "cell_type": "markdown",
      "metadata": {
        "id": "Zgexd27sZ1ly"
      },
      "source": [
        "## Your thoughts on what you have learnt\n",
        "Please add some comments in the box below to reflect on what you have learnt through completing this worksheet, and any problems you encountered while doing so."
      ]
    },
    {
      "cell_type": "markdown",
      "metadata": {
        "id": "aDYmIIcEbT7x"
      },
      "source": [
        "This worksheet was definitely a challenge! I found it difficult to work through and understand the existing code but also to try and solve the errors/\n",
        "\n",
        "I think this is definitely a section that might need a few videos to help explain it and there might be some learners that need extra help (like me at one or two points!)\n",
        "\n",
        "I got a bit muddled on question 7 and 8 as well as the final test 5 on question 10 but I was able to figure ut out with the help of the tutors (Thank you to Liz and Yulia)"
      ]
    }
  ]
}