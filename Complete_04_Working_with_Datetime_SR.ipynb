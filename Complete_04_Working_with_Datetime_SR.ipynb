{
  "cells": [
    {
      "cell_type": "markdown",
      "metadata": {
        "id": "view-in-github",
        "colab_type": "text"
      },
      "source": [
        "<a href=\"https://colab.research.google.com/github/BeaWilde/data-and-python/blob/main/Complete_04_Working_with_Datetime_SR.ipynb\" target=\"_parent\"><img src=\"https://colab.research.google.com/assets/colab-badge.svg\" alt=\"Open In Colab\"/></a>"
      ]
    },
    {
      "cell_type": "markdown",
      "metadata": {
        "id": "7iQyKP-SQiw1"
      },
      "source": [
        "# User-defined functions using datetime library\n",
        "\n",
        "---\n"
      ]
    },
    {
      "cell_type": "markdown",
      "metadata": {
        "id": "Vi93h5I4QnKs"
      },
      "source": [
        "When working with dates and times, fairly common in data sets, we need to be able to extract certain bits of information.  \n",
        "\n",
        "In Python, as with other languages, dates and times are stored in a data **object** that combines the two together and stores the information as a number of seconds since a start point (often 1st January 1900).  This is obviously a large number but every bit of information about a date can be extracted from it and used to give a wide range of information.  \n",
        "\n",
        "Before you can use datetime functions you will need to import them. Import the datetime function with whichever of these is most appropriate for what you are doing:\n",
        "\n",
        "`from datetime import datetime`   \n",
        "`from datetime import datetime, timedelta`\n",
        "\n",
        "\n",
        "For more information about datetime functions visit [Python docs](https://docs.python.org/3/library/datetime.html)\n",
        "\n",
        "## Watch this [video](https://vimeo.com/989582446/90fd251483?share=copy) before you start"
      ]
    },
    {
      "cell_type": "markdown",
      "metadata": {
        "id": "MIDLi7CNR034"
      },
      "source": [
        "---\n",
        "### Exercise 1 - print current date and time\n",
        "\n",
        "Write a function that will get the date and time now, then print it.  \n",
        "\n",
        "*Hint:  the format has been added for you, the other exercises will follow a similar format.   Always remember to import datetime from datetime as shown below*\n",
        "\n",
        "`datetime.now()` can be used to get the current date and time  \n",
        "\n",
        "We use datetime to create a date/time object containing Year, Month, Day, Hour, Minutes, Seconds.  We can either tell it the date and time, we want it to create or ask it to create the date and time now.\n",
        "\n",
        "You can use:  \n",
        "`now = datetime.now()` to get the current date and time   \n",
        "\n",
        "You may notice that the time is out by an hour (due to British Summer Time).  Later you will see how it is possible to add an hour on when you create the date and time).    \n",
        "\n",
        "Examples of using datetime to create a date and time:  \n",
        "\n",
        "`now = datetime.now()`  \n",
        "`start_date = datetime(2024, 7, 22)` if no time is given, the time will be set to midnight  \n",
        "`end_date_time = datetime(2024, 9,4,19,0,0)`\n",
        "\n",
        "Examples of getting a day, month, year, hour, etc from a datetime (these examples use `end_date_time`):  \n",
        "`day = end_date_time.day`  \n",
        "`month = end_date_time.month`  \n",
        "`minute = end_date_time.minute`  \n",
        "\n",
        "\n",
        "\n",
        "\n"
      ]
    },
    {
      "cell_type": "code",
      "execution_count": null,
      "metadata": {
        "colab": {
          "base_uri": "https://localhost:8080/"
        },
        "id": "gS6GJdXbQfHp",
        "outputId": "7532330c-eb35-43fc-e66c-712f8aa03257"
      },
      "outputs": [
        {
          "name": "stdout",
          "output_type": "stream",
          "text": [
            "2024-07-28 16:47:54.185051\n"
          ]
        }
      ],
      "source": [
        "from datetime import datetime\n",
        "\n",
        "def get_datetime_now():\n",
        "  #get the current date and time\n",
        "  current_date = datetime.now()\n",
        "  print(current_date)\n",
        "\n",
        "get_datetime_now()"
      ]
    },
    {
      "cell_type": "markdown",
      "metadata": {
        "id": "Yy24sL0bUtpF"
      },
      "source": [
        "---\n",
        "Exercise 2 - print the current year\n",
        "\n",
        "Write a function that will return the current year.  The caller will print the year."
      ]
    },
    {
      "cell_type": "code",
      "execution_count": null,
      "metadata": {
        "colab": {
          "base_uri": "https://localhost:8080/"
        },
        "id": "YqlQqPIqUtyr",
        "outputId": "e0215653-1fb0-4a1e-ccfc-a6bee353a22a"
      },
      "outputs": [
        {
          "name": "stdout",
          "output_type": "stream",
          "text": [
            "2024\n"
          ]
        }
      ],
      "source": [
        "from datetime import datetime\n",
        "\n",
        "def get_year():\n",
        "  #get the current year\n",
        "  current_date = datetime.now()\n",
        "  current_year = current_date.year\n",
        "\n",
        "  print(current_year)\n",
        "\n",
        "get_year()"
      ]
    },
    {
      "cell_type": "markdown",
      "metadata": {
        "id": "FzSVCaJKV1O1"
      },
      "source": [
        "---\n",
        "### Exercise 3 - print the current day of the week\n",
        "\n",
        "Write a function that will return the current day of the week.  The caller will print it."
      ]
    },
    {
      "cell_type": "code",
      "execution_count": null,
      "metadata": {
        "colab": {
          "base_uri": "https://localhost:8080/"
        },
        "id": "OP4ZIXBWV1Yj",
        "outputId": "d67ec59d-0c35-431f-82cd-692fd5e570f0"
      },
      "outputs": [
        {
          "name": "stdout",
          "output_type": "stream",
          "text": [
            "Sunday\n"
          ]
        }
      ],
      "source": [
        "from datetime import datetime\n",
        "\n",
        "def get_day():\n",
        "#get the current day of the week\n",
        "  from datetime import datetime\n",
        "\n",
        "  current_date = datetime.now()\n",
        "  get_day_of_week = current_date.strftime(\"%A\")\n",
        "  print(get_day_of_week)\n",
        "\n",
        "get_day()"
      ]
    },
    {
      "cell_type": "markdown",
      "metadata": {
        "id": "a8euCtdmWIDE"
      },
      "source": [
        "---\n",
        "### Exercise 4 - create a new date\n",
        "\n",
        "Write a function that will take 3 parameters, day, month, year (3 numbers that make a valid date) and will create, and return a new date.  The caller will print the date."
      ]
    },
    {
      "cell_type": "code",
      "execution_count": 78,
      "metadata": {
        "colab": {
          "base_uri": "https://localhost:8080/"
        },
        "id": "FbOFnTwnWILN",
        "outputId": "348983d3-50e6-4cfa-9280-bbf2720bbdaf"
      },
      "outputs": [
        {
          "output_type": "stream",
          "name": "stdout",
          "text": [
            "what date is it? e.g. 06: 06\n",
            "what month is it? e.g. 07: 07\n",
            "what year is it? e.g. 2016: 2016\n",
            "2016-07-06 00:00:00\n",
            "06/07/2016\n"
          ]
        }
      ],
      "source": [
        "from datetime import datetime\n",
        "\n",
        "def new_date():\n",
        "#create a new date\n",
        "  day= int(input(\"what date is it? e.g. 06: \"))\n",
        "  month= int(input(\"what month is it? e.g. 07: \"))\n",
        "  year= int(input(\"what year is it? e.g. 2016: \"))\n",
        "\n",
        "  date_given = datetime(year, month, day)\n",
        "\n",
        "  new_current_date = date_given.strftime(\"%d/%m/%Y\")\n",
        "  print(new_current_date)\n",
        "\n",
        "\n",
        "\n",
        "new_date()"
      ]
    },
    {
      "cell_type": "markdown",
      "metadata": {
        "id": "f5SKVuE0WfcE"
      },
      "source": [
        "---\n",
        "### Exercise 5 - create a date and time and use strftime() to print\n",
        "\n",
        "Write a function that ask the user to enter a day, month, year, hour, minute, second (6 numbers) and will the :  \n",
        "*   create a new datetime with that date and time  \n",
        "*   print the date and time as shown in the expected output below.  \n",
        "\n",
        "**Note:** You will need to join some strings together to create the message. Each part of the date will need to be converted to a string.  Do this with the datetime function strftime:  \n",
        "\n",
        " e.g. day.strftime(%d), month.strftime(%m), year.strftime(%Y), etc as you can only join strings with strings.  To find the codes for hour, minute and second visit [strftime.org](https://strftime.org/)\n",
        "\n",
        "**Test inputs**:  \n",
        "24  \n",
        "7  \n",
        "2024  \n",
        "17  \n",
        "30  \n",
        "0\n",
        "\n",
        "**Expected output**\n",
        "The set date is 24/7/2024 and time is 17.30.0"
      ]
    },
    {
      "cell_type": "code",
      "execution_count": 82,
      "metadata": {
        "id": "gclt-f9-XfdG",
        "colab": {
          "base_uri": "https://localhost:8080/"
        },
        "outputId": "5067004e-fad5-4f93-f081-ddf0284147ee"
      },
      "outputs": [
        {
          "output_type": "stream",
          "name": "stdout",
          "text": [
            "what date is it? e.g. 06: 24\n",
            "what month is it? e.g. 07: 7\n",
            "what year is it? e.g. 2016: 2024\n",
            "what hour is it? e.g. 2: 17\n",
            "what minute is it? e.g. 40: 30\n",
            "what second is it? e.g. 23: 0\n",
            "The set date is 24/7/2024 and the time is 17.30.0\n"
          ]
        }
      ],
      "source": [
        "from datetime import datetime\n",
        "\n",
        "def new_date_and_time():\n",
        "#create a new date and time\n",
        "  day= int(input(\"what date is it? e.g. 06: \"))\n",
        "  month= int(input(\"what month is it? e.g. 07: \"))\n",
        "  year= int(input(\"what year is it? e.g. 2016: \"))\n",
        "  hour= int(input(\"what hour is it? e.g. 2: \"))\n",
        "  minute= int(input(\"what minute is it? e.g. 40: \"))\n",
        "  second= int(input(\"what second is it? e.g. 23: \"))\n",
        "\n",
        "  date_given = datetime(year, month, day)\n",
        "  current_date = date_given.strftime(\"%d/%-m/%Y\")\n",
        "\n",
        "  time_given = datetime(year, month, day, hour, minute, second)\n",
        "  current_time = time_given.strftime(\"%H.%M.%-S\")\n",
        "\n",
        "  print(\"The set date is \" + current_date + \" and the time is \" + current_time)\n",
        "\n",
        "new_date_and_time()"
      ]
    },
    {
      "cell_type": "markdown",
      "metadata": {
        "id": "js7fy2HWXfm2"
      },
      "source": [
        "---\n",
        "### Exercise 6 - show the date and time in different formats\n",
        "\n",
        "Write a function that will create the same date as before but will then print it in the following 2 formats (using strftime again)\n",
        "\n",
        "Wed 24 July 2024 at 1730 hours  \n",
        "30 minutes past 5pm on July 24 2024\n",
        "\n",
        "*Hint: use 12 hour clock as decimal and remember that you can convert a string to lower case for pm.*"
      ]
    },
    {
      "cell_type": "code",
      "execution_count": 90,
      "metadata": {
        "id": "KY1jtf3lX_ps",
        "colab": {
          "base_uri": "https://localhost:8080/"
        },
        "outputId": "826c5fcf-0f2b-4fe8-9991-d6e9d4b0f708"
      },
      "outputs": [
        {
          "output_type": "stream",
          "name": "stdout",
          "text": [
            "what date is it? e.g. 24: 24\n",
            "what month is it? e.g. 7: 7\n",
            "what year is it? e.g. 2024: 2024\n",
            "what hour is it? e.g. 17: 17\n",
            "what minute is it? e.g. 30: 30\n",
            "Wed 24 July 2024 at 1730 hours\n",
            "30 minutes past 5pm on July 24 2024\n"
          ]
        }
      ],
      "source": [
        "from datetime import datetime\n",
        "\n",
        "def new_date_and_time():\n",
        "#create a new date and time\n",
        "  day= int(input(\"what date is it? e.g. 24: \"))\n",
        "  month= int(input(\"what month is it? e.g. 7: \"))\n",
        "  year= int(input(\"what year is it? e.g. 2024: \"))\n",
        "  hour= int(input(\"what hour is it? e.g. 17: \"))\n",
        "  minute= int(input(\"what minute is it? e.g. 30: \"))\n",
        "\n",
        "\n",
        "  date_given = datetime(year, month, day)\n",
        "  current_day = date_given.strftime(\"%a\")\n",
        "  current_date = date_given.strftime(\"%d\")\n",
        "  current_month = date_given.strftime(\"%B\")\n",
        "  current_year = date_given.strftime(\"%Y\")\n",
        "\n",
        "  time_given = datetime(year, month, day, hour, minute)\n",
        "  current_time = time_given.strftime(\"%H%M\")\n",
        "  current_minutes = time_given.strftime(\"%M\")\n",
        "  current_hour_cap= time_given.strftime(\"%-I%p\")\n",
        "  current_hour = current_hour_cap.lower()\n",
        "\n",
        "\n",
        "  print(current_day + \" \" + current_date + \" \" + current_month + \" \" + current_year + \" at \" + current_time + \" hours\")\n",
        "  print(current_minutes + \" minutes\" + \" past \" + current_hour + \" on \" + current_month + \" \" + current_date + \" \" + current_year)\n",
        "\n",
        "new_date_and_time()"
      ]
    },
    {
      "cell_type": "markdown",
      "metadata": {
        "id": "9BuRDi08YAO0"
      },
      "source": [
        "---\n",
        "### Exercise 7 - display parts of date/time\n",
        "\n",
        "Write a function that will take a date and print from it the following:  \n",
        "*  given date and time  \n",
        "*  year (in full)\n",
        "*  month (as a number)\n",
        "*  month name\n",
        "*  week number of the year  \n",
        "*  weekday of the week (as a number)  \n",
        "*  day of year  \n",
        "*  day of the month  \n",
        "*  day of week (as a short name)  \n"
      ]
    },
    {
      "cell_type": "code",
      "execution_count": 94,
      "metadata": {
        "id": "zl-37Ez9ahym",
        "colab": {
          "base_uri": "https://localhost:8080/"
        },
        "outputId": "e81f12d0-0066-48ae-df96-72129b12b19e"
      },
      "outputs": [
        {
          "output_type": "stream",
          "name": "stdout",
          "text": [
            "2024-07-28 19:44:09.258579\n",
            "2024\n",
            "07\n",
            "July\n",
            "30\n",
            "0\n",
            "210\n",
            "28\n",
            "Sun\n"
          ]
        }
      ],
      "source": [
        "from datetime import datetime\n",
        "\n",
        "def datetime_stats():\n",
        "  #give date and time stats\n",
        "  current_date = datetime.now()\n",
        "  print(current_date)\n",
        "\n",
        "  year = current_date.strftime(\"%Y\")\n",
        "  print(year)\n",
        "\n",
        "  month_number = current_date.strftime(\"%m\")\n",
        "  print(month_number)\n",
        "\n",
        "  month_name = current_date.strftime(\"%B\")\n",
        "  print(month_name)\n",
        "\n",
        "  week_number = current_date.strftime(\"%U\")\n",
        "  print(week_number)\n",
        "\n",
        "  weekday_number = current_date.strftime(\"%w\")\n",
        "  print(weekday_number)\n",
        "\n",
        "  day_of_year = current_date.strftime(\"%j\")\n",
        "  print(day_of_year)\n",
        "\n",
        "  day_of_month = current_date.strftime(\"%d\")\n",
        "  print(day_of_month)\n",
        "\n",
        "  day_of_week = current_date.strftime(\"%a\")\n",
        "  print(day_of_week)\n",
        "\n",
        "datetime_stats()"
      ]
    },
    {
      "cell_type": "markdown",
      "metadata": {
        "id": "6zhQ3j6OkIi9"
      },
      "source": [
        "---\n",
        "# strptime\n",
        "The **strptime(**) function will help you to create a new datetime object from a string, rather than supplying the year, month, day, hour, etc as separate numbers.\n",
        "\n",
        "In data processing, dates often appear as strings and so being able to convert them into datetime data easily is very useful.\n",
        "\n",
        "`strptime()` uses the same formatting characters as `strftime()` so you can just supply date in text format and tell it what the format is.  \n",
        "\n",
        "e.g.  \n",
        "```\n",
        "date_string = \"11-24-1990\"\n",
        "new_date = datetime.strptime(date_string, \"%m-%d-%Y\")\n",
        "```\n",
        "If you only want to print the date you can use datetime.date()."
      ]
    },
    {
      "cell_type": "markdown",
      "metadata": {
        "id": "Ww3txeHOh7Rm"
      },
      "source": [
        "---\n",
        "### Exercise 8 - create a datetime from a string\n",
        "\n",
        "Write a function that will:  \n",
        "* create a string to hold a date in the format yyyy:dd:mm\n",
        "* print just the date\n",
        "* print date in the format as shown below:  \n",
        "`day name-day number-short month-year`  \n",
        "\n",
        "Test input:  \n",
        "2023:12:2\n",
        "\n",
        "Expected output:\n",
        "  \n",
        "Sun 12 Feb 2023"
      ]
    },
    {
      "cell_type": "code",
      "execution_count": 115,
      "metadata": {
        "id": "J0pX60wpiVrM",
        "colab": {
          "base_uri": "https://localhost:8080/"
        },
        "outputId": "ad900841-02ee-48e6-82a5-5975784cb855"
      },
      "outputs": [
        {
          "output_type": "stream",
          "name": "stdout",
          "text": [
            "what date is it? e.g. 2023:12:2 2023:12:2\n",
            "2023-02-12 00:00:00\n",
            "Sun 12 Feb 2023\n"
          ]
        }
      ],
      "source": [
        "from datetime import datetime\n",
        "\n",
        "def datetime_string():\n",
        "  #give datetime from string\n",
        "  date_string= str(input(\"what date is it? e.g. 2023:12:2 \"))\n",
        "\n",
        "  date = datetime.strptime(date_string, \"%Y:%d:%m\")\n",
        "  print(date)\n",
        "\n",
        "  day = date.strftime(\"%a\")\n",
        "  date_number = date.strftime(\"%d\")\n",
        "  mon = date.strftime(\"%b\")\n",
        "  year = date.strftime(\"%Y\")\n",
        "  print(day + \" \" + date_number + \" \" + mon + \" \" + year)\n",
        "\n",
        "\n",
        "\n",
        "datetime_string()"
      ]
    },
    {
      "cell_type": "markdown",
      "metadata": {
        "id": "_rpTIoSDaiBj"
      },
      "source": [
        "---\n",
        "### Exercise 9 - next 6 days - a challenge\n",
        "\n",
        "**Scenario**\n",
        "\n",
        "The timedelta function is part of the datetime library and will allow you to create a value to represent a number of days (or months, etc) so that you can create a date in the future (like an expiry date).\n",
        "\n",
        "Watch this [video](https://vimeo.com/989587133/fccf9cb783?share=copy) to see timedelta in use\n",
        "\n",
        "**Your task**\n",
        "\n",
        "Write a function that will take a date and generate the dates of the following 6 days.  It should print each of the 6 days in this format:  \n",
        "\n",
        "e.g.  \n",
        "Friday, May 24 2024  \n",
        "Saturday, May 25 2024  \n",
        "Sunday, May 26 2024\n",
        "Monday, May 27 2024\n",
        "Tuesday, May\n",
        "\n",
        "*Hint:  to generate the days, use the function datetime.timedelta(), there is a good example of its use [here](https://www.geeksforgeeks.org/python-datetime-timedelta-function/) *\n",
        "\n",
        "DON'T FORGET TO IMPORT timedelta as well as datetime"
      ]
    },
    {
      "cell_type": "code",
      "execution_count": 119,
      "metadata": {
        "colab": {
          "base_uri": "https://localhost:8080/"
        },
        "id": "1d-oXqLLb0vX",
        "outputId": "211a9387-1b92-4074-9f93-802e229c1642"
      },
      "outputs": [
        {
          "output_type": "stream",
          "name": "stdout",
          "text": [
            "Friday, May 24 2024\n",
            "Saturday, May 25 2024\n",
            "Sunday, May 26 2024\n",
            "Monday, May 27 2024\n",
            "Tuesday, May 28 2024\n",
            "Wednesday, May 29 2024\n"
          ]
        }
      ],
      "source": [
        "from datetime import datetime, timedelta\n",
        "\n",
        "date = datetime(2024, 5, 23)\n",
        "day1 = date + timedelta(days=1)\n",
        "print(day1.strftime(\"%A, %B %d %Y\"))\n",
        "\n",
        "day2 = day1 + timedelta(days=1)\n",
        "print(day2.strftime(\"%A, %B %d %Y\"))\n",
        "\n",
        "day3 = day2 + timedelta(days=1)\n",
        "print(day3.strftime(\"%A, %B %d %Y\"))\n",
        "\n",
        "day4 = day3 + timedelta(days=1)\n",
        "print(day4.strftime(\"%A, %B %d %Y\"))\n",
        "\n",
        "day5 = day4 + timedelta(days=1)\n",
        "print(day5.strftime(\"%A, %B %d %Y\"))\n",
        "\n",
        "day6 = day5 + timedelta(days=1)\n",
        "print(day6.strftime(\"%A, %B %d %Y\"))"
      ]
    },
    {
      "cell_type": "markdown",
      "metadata": {
        "id": "22Rhwx2Sb1Ey"
      },
      "source": [
        "---\n",
        "### Optional extra practice\n",
        "\n",
        "There are some similar and some more challenging exercises [here](https://www.w3resource.com/python-exercises/date-time-exercise/) if you would like to practice more. The site has its own editor."
      ]
    },
    {
      "cell_type": "markdown",
      "metadata": {
        "id": "ebyScSG_hKFV"
      },
      "source": [
        "---\n",
        "# Takeaways\n",
        "\n",
        "* the datetime library has a number of functions for working with dates\n",
        "* you have used the `datetime` function and `timedelta` function\n",
        "* the `strftime()` function helps you to format parts of the date and time into strings to help format the data into text and the `strptime()` function helps you to create dates with differently organised date strings\n",
        "* changing the format of dates is a common data cleaning task"
      ]
    },
    {
      "cell_type": "markdown",
      "metadata": {
        "id": "zXCWqmiOpIME"
      },
      "source": [
        "# Your thoughts on what you have learnt  \n",
        "\n",
        "Please add some comments in the box below to reflect on what you have learnt through completing this worksheet, and any problems you encountered while doing so.\n"
      ]
    },
    {
      "cell_type": "markdown",
      "metadata": {
        "id": "oDwUX3jVpTIr"
      },
      "source": [
        "I found this section a lot more challenging than the last one si it took me a bot longer. I don't know if it was because it took me a bit longer to understand how the time functions work or if it was because I didn't understand the wording of some of the questions.\n",
        "\n",
        "Overall, I was able to braimstorm and figure out the ask as well as any errors, and altough it wasnt as easy as working with strongs, I was able to use the knowledge from those sessions to build on my logic here and figure out solutions to my problems."
      ]
    }
  ],
  "metadata": {
    "colab": {
      "provenance": [],
      "include_colab_link": true
    },
    "kernelspec": {
      "display_name": "Python 3",
      "name": "python3"
    },
    "language_info": {
      "name": "python"
    }
  },
  "nbformat": 4,
  "nbformat_minor": 0
}