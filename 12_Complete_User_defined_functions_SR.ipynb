{
  "nbformat": 4,
  "nbformat_minor": 0,
  "metadata": {
    "colab": {
      "provenance": [],
      "include_colab_link": true
    },
    "kernelspec": {
      "name": "python3",
      "display_name": "Python 3"
    },
    "language_info": {
      "name": "python"
    }
  },
  "cells": [
    {
      "cell_type": "markdown",
      "metadata": {
        "id": "view-in-github",
        "colab_type": "text"
      },
      "source": [
        "<a href=\"https://colab.research.google.com/github/BeaWilde/data-and-python/blob/main/12_Complete_User_defined_functions_SR.ipynb\" target=\"_parent\"><img src=\"https://colab.research.google.com/assets/colab-badge.svg\" alt=\"Open In Colab\"/></a>"
      ]
    },
    {
      "cell_type": "markdown",
      "metadata": {
        "id": "_mb8Es9TZFdY"
      },
      "source": [
        "# User-defined functions"
      ]
    },
    {
      "cell_type": "markdown",
      "metadata": {
        "id": "yDPndJACZJKA"
      },
      "source": [
        "---\n",
        "During this course, you have already been writing user-defined functions.  We have introduced these early so that they become second nature to use.  Python is a 'scripting' language, which means that you can just write a list of instructions and click run and it will just run them from first to last.\n",
        "\n",
        "Many other programming languages, including C, C++ and Java, have a structure where you must group instructions into a named set (like a function) before you can run them.  It will be easier to learn new languages later if you have an understanding of the organisation of code into functions.\n",
        "\n",
        "## Definition\n",
        "\n",
        "A function is a set of programming instructions, grouped together and named so that, in essence, they form a new instruction that can be use in other functions.\n",
        "\n",
        "A function should:\n",
        "*   do *one* particular thing (e.g. generate one new piece of data)\n",
        "*   have a *name* that indicates what it does, that name should contain a verb (e.g. get_username(), calculate_sum() )\n",
        "*   accept a number of data items as *parameters* in its brackets\n",
        "*   *return* the one new piece of data it produces or None if no new data is produced.\n",
        "\n",
        "---\n",
        "## Examples\n",
        "Run the code for each to see what it does.\n",
        "\n",
        "\n",
        "\n",
        "\n"
      ]
    },
    {
      "cell_type": "code",
      "metadata": {
        "id": "BRlxHaF9YtoB",
        "colab": {
          "base_uri": "https://localhost:8080/"
        },
        "outputId": "74b885a0-f2af-41f8-b9d5-7a83e0a90d9e"
      },
      "source": [
        "def get_username():\n",
        "  username = input(\"Enter your username: \")\n",
        "  return username\n",
        "\n",
        "username = get_username()\n",
        "print(username)"
      ],
      "execution_count": 1,
      "outputs": [
        {
          "output_type": "stream",
          "name": "stdout",
          "text": [
            "Enter your username: soap\n",
            "soap\n"
          ]
        }
      ]
    },
    {
      "cell_type": "markdown",
      "metadata": {
        "id": "RsSaHvS_bx0i"
      },
      "source": [
        "---\n"
      ]
    },
    {
      "cell_type": "code",
      "metadata": {
        "id": "DraANPGIbd13",
        "colab": {
          "base_uri": "https://localhost:8080/"
        },
        "outputId": "47b2ddc5-6439-4687-fcf8-f48694dbb576"
      },
      "source": [
        "def calculate_sum(num1, num2):\n",
        "  sum = num1 + num2\n",
        "  return sum\n",
        "\n",
        "total = calculate_sum(4, 7)\n",
        "print(total)"
      ],
      "execution_count": 2,
      "outputs": [
        {
          "output_type": "stream",
          "name": "stdout",
          "text": [
            "11\n"
          ]
        }
      ]
    },
    {
      "cell_type": "markdown",
      "metadata": {
        "id": "IaybFpHvbziA"
      },
      "source": [
        "---\n"
      ]
    },
    {
      "cell_type": "code",
      "metadata": {
        "id": "pEldozw1bw9K",
        "colab": {
          "base_uri": "https://localhost:8080/"
        },
        "outputId": "cedf7b82-a294-4b12-e3c5-79574307753d"
      },
      "source": [
        "def show_score(score):\n",
        "  print(\"Your current score is: \", score)\n",
        "\n",
        "show_score(50)"
      ],
      "execution_count": 3,
      "outputs": [
        {
          "output_type": "stream",
          "name": "stdout",
          "text": [
            "Your current score is:  50\n"
          ]
        }
      ]
    },
    {
      "cell_type": "markdown",
      "metadata": {
        "id": "S54v0BzZfcle"
      },
      "source": [
        "---\n",
        "## Passing data to functions\n",
        "\n",
        "Data is passed to a function through its brackets.  The brackets contain the parameter list.  The list can contain zero or more parameters.\n",
        "\n",
        "When the function is called, the parameters (either real values or variables holding values) are added to the function call."
      ]
    },
    {
      "cell_type": "code",
      "metadata": {
        "id": "nPaM_x2cg2EI",
        "colab": {
          "base_uri": "https://localhost:8080/"
        },
        "outputId": "a225391a-3082-4fc4-b20b-32e317638757"
      },
      "source": [
        "def calculate_answer(num1, num2, operator):\n",
        "  if operator == \"+\":\n",
        "     return num1 + num2\n",
        "  elif operator == \"-\":\n",
        "     return num1 - num2\n",
        "  elif operator == \"*\":\n",
        "     return num1 * num2\n",
        "  elif operator == \"/\":\n",
        "     return num1 / num2\n",
        "  else:\n",
        "     return -999999\n",
        "\n",
        "answer = calculate_answer(5,7,\"+\")\n",
        "print(answer)"
      ],
      "execution_count": 4,
      "outputs": [
        {
          "output_type": "stream",
          "name": "stdout",
          "text": [
            "12\n"
          ]
        }
      ]
    },
    {
      "cell_type": "markdown",
      "metadata": {
        "id": "4u3jcpUWg56N"
      },
      "source": [
        "To pass values easily to the function, just add the values in the same order that they are listed in the function definition.  Make sure that the values you pass in are of a type that the function obviously expects."
      ]
    },
    {
      "cell_type": "markdown",
      "metadata": {
        "id": "2pN0AVaTh-HP"
      },
      "source": [
        "---\n",
        "## Global and local variables\n",
        "\n",
        "Each variable in a Python program has a **scope**.  This determines which parts of the program can 'see' that variable. The advantage of variable scope is that it:\n",
        "*   can protect variables from being changed elsewhere in the program due to adding a variable with the same name\n",
        "*   reduces the number of different variable names needed.  If a total in one function is totally unconnected to a total in a different function they can have the same name and only exist while the function each is in is actually running.  This also saves on memory.\n",
        "\n"
      ]
    },
    {
      "cell_type": "code",
      "metadata": {
        "colab": {
          "base_uri": "https://localhost:8080/"
        },
        "id": "Ww0WCrVBhNLm",
        "outputId": "dd638b9a-8592-4715-b901-fe05f8da7575"
      },
      "source": [
        "def calculate_sum(num1, num2):\n",
        "  # add the parameters together and return the total\n",
        "  total = num1 + num2  # here total is a local variable\n",
        "  print(\"Inside the function, local total\", total)\n",
        "  return total\n",
        "\n",
        "total = 0  # here total is a global variable (declared outside any function)\n",
        "\n",
        "# call the calculate_sum function, storing the result in the global variable\n",
        "new_total = calculate_sum(10, 20)\n",
        "print(\"Outside the function, global total\", total)\n",
        "print(\"Outside the function, global new_total, returned from function\", new_total)"
      ],
      "execution_count": null,
      "outputs": [
        {
          "output_type": "stream",
          "text": [
            "Inside the function, local total 30\n",
            "Outside the function, global total 0\n",
            "Outside the function, global new_total, returned from function 30\n"
          ],
          "name": "stdout"
        }
      ]
    },
    {
      "cell_type": "markdown",
      "metadata": {
        "id": "VQ2bk-Qo7jC7"
      },
      "source": [
        "---\n",
        "# Have a go"
      ]
    },
    {
      "cell_type": "markdown",
      "metadata": {
        "id": "iK9GF4T274Na"
      },
      "source": [
        "---\n",
        "### Exercise 1 - get valid digit\n",
        "\n",
        "Write a function called **input_digit()** which will:\n",
        "*  ask the user for a **number** that must be between 0 and 9, if the number is not between 0 and 9 it will keep reading until it gets a valid `number`\n",
        "*  return the valid `number` to be printed by the caller\n",
        "\n",
        "Test input:  \n",
        "33  \n",
        "-1  \n",
        "8  \n",
        "\n",
        "Expected output:  \n",
        "That number is not valid, try again  \n",
        "That number is not valid, try again  \n",
        "8  "
      ]
    },
    {
      "cell_type": "code",
      "metadata": {
        "id": "lwN-VvkH8Skt",
        "colab": {
          "base_uri": "https://localhost:8080/"
        },
        "outputId": "e33339f8-f5b2-49cb-a58f-d333415ffb99"
      },
      "source": [
        "def input_digit():\n",
        "  #WILL MAKE SURE ITS GETS A NUMBER BETWEEN 1 AND 9\n",
        "  number = int(input(\"Enter a number between 1 and 9: \"))\n",
        "  while number <= -1 or number > 9:\n",
        "    print(\"That number is not valid, try again\")\n",
        "    number = int(input(\"Enter a number between 1 and 9: \"))\n",
        "  return number\n",
        "\n",
        "number = input_digit()\n",
        "print(number)"
      ],
      "execution_count": 32,
      "outputs": [
        {
          "output_type": "stream",
          "name": "stdout",
          "text": [
            "Enter a number between 1 and 9: 33\n",
            "That number is not valid, try again\n",
            "Enter a number between 1 and 9: -1\n",
            "That number is not valid, try again\n",
            "Enter a number between 1 and 9: 8\n",
            "8\n"
          ]
        }
      ]
    },
    {
      "cell_type": "markdown",
      "metadata": {
        "id": "v-qE3qQ58THx"
      },
      "source": [
        "---\n",
        "### Exercise 2 - input range\n",
        "\n",
        "Write a function called **input_value(min, max)** which will:  \n",
        "*  read a **number** that must be between `min` and `max` and only return when it has a valid `number`.  The caller will print the `number`.\n",
        "\n",
        "Test input:  \n",
        "min = 3  \n",
        "max = 24  \n",
        "1  \n",
        "45  \n",
        "20  \n",
        "\n",
        "Expected output:  \n",
        "Number is out of range, try again  \n",
        "Number is out of range, try again  \n",
        "20"
      ]
    },
    {
      "cell_type": "code",
      "metadata": {
        "id": "PKAlW0sr9XR1",
        "colab": {
          "base_uri": "https://localhost:8080/"
        },
        "outputId": "aac65198-d9b0-45ac-e1c9-7750e668b42c"
      },
      "source": [
        "def input_value(min, max):\n",
        "  #number caller that will only return when in range\n",
        "  number = int(input(\"Enter a number between \" + str(min) + \" and \" + str(max) + \": \"))\n",
        "  while number < min or number > max:\n",
        "    print(\"Number is out of range, try again\")\n",
        "    number = int(input(\"Enter a number between \" + str(min) + \" and \" + str(max) + \": \"))\n",
        "  return number\n",
        "\n",
        "number = input_value(3, 24)\n",
        "print(number)"
      ],
      "execution_count": 37,
      "outputs": [
        {
          "output_type": "stream",
          "name": "stdout",
          "text": [
            "Enter a number between 3 and 24: 1\n",
            "Number is out of range, try again\n",
            "Enter a number between 3 and 24: 45\n",
            "Number is out of range, try again\n",
            "Enter a number between 3 and 24: 24\n",
            "24\n"
          ]
        }
      ]
    },
    {
      "cell_type": "markdown",
      "metadata": {
        "id": "MXhunQBG9XkU"
      },
      "source": [
        "---\n",
        "### Exercise 3 - re-using the function\n",
        "\n",
        "Using the same function as in Exercise 2 above, try running it with these function calls:\n",
        "\n",
        "```\n",
        "value1 = input_value(1,10)\n",
        "value2 = input_value(11,20)\n",
        "value3 = input_value(21,30)\n",
        "print(value1, value2, value3)\n",
        "```"
      ]
    },
    {
      "cell_type": "code",
      "metadata": {
        "id": "oVpQJ3ZM9xCJ",
        "colab": {
          "base_uri": "https://localhost:8080/"
        },
        "outputId": "2c36446a-f0fb-47e5-a388-92df628750d2"
      },
      "source": [
        "def input_value(min, max):\n",
        "  #number caller that will only return when in range\n",
        "  number = int(input(\"Enter a number between \" + str(min) + \" and \" + str(max) + \": \"))\n",
        "  while number < min or number > max:\n",
        "    print(\"Number is out of range, try again\")\n",
        "    number = int(input(\"Enter a number between \" + str(min) + \" and \" + str(max) + \": \"))\n",
        "  return number\n",
        "\n",
        "number = input_value(1, 10)\n",
        "print(number)\n",
        "number = input_value(11, 20)\n",
        "print(number)\n",
        "number = input_value(21, 30)\n",
        "print(number)"
      ],
      "execution_count": 42,
      "outputs": [
        {
          "output_type": "stream",
          "name": "stdout",
          "text": [
            "Enter a number between 1 and 10: 5\n",
            "5\n",
            "Enter a number between 11 and 20: 14\n",
            "14\n",
            "Enter a number between 21 and 30: 25\n",
            "25\n"
          ]
        }
      ]
    },
    {
      "cell_type": "markdown",
      "metadata": {
        "id": "P0QwTt7O9xUz"
      },
      "source": [
        "---\n",
        "### Exercise 4 - generate random even number\n",
        "\n",
        "Write a function called **generate_even_number()** that will generate a random, even **number** and return it to the caller, which will print it.\n",
        "\n",
        "*Hint: the function will need to generate the number, check it is an even number, repeat if not and return the number once it has got an even number*."
      ]
    },
    {
      "cell_type": "code",
      "metadata": {
        "id": "1ccTQxUa-Ok7",
        "colab": {
          "base_uri": "https://localhost:8080/"
        },
        "outputId": "c5dcc26f-91c5-4940-95c1-77b6acb324a9"
      },
      "source": [
        "def generate_even_number():\n",
        "  #will import rnadom even numbers\n",
        "  import random\n",
        "  number = random.randint(1, 100)\n",
        "  while number % 2 != 0:\n",
        "    number = random.randint(1, 100)\n",
        "  return number\n",
        "\n",
        "number = generate_even_number()\n",
        "print(number)"
      ],
      "execution_count": 74,
      "outputs": [
        {
          "output_type": "stream",
          "name": "stdout",
          "text": [
            "6\n"
          ]
        }
      ]
    },
    {
      "cell_type": "markdown",
      "metadata": {
        "id": "LYLGRytk-Ot6"
      },
      "source": [
        "---\n",
        "### Exercise 5 - biggest of 3 numbers\n",
        "\n",
        "Write a function called **check_largest(num1, num2, num3)** which will:  \n",
        "*  select the largest of `num1`, `num2` and `num3` and store this in a variable called **largest**\n",
        "*  return `largest` to the caller, where it will be printed.\n",
        "\n",
        "Test input:  \n",
        "check_largest(3,5,8)  \n",
        "check_largest(5,7,2)  \n",
        "check_largest(123,45,122)\n",
        "\n",
        "Expected output:  \n",
        "8  \n",
        "7  \n",
        "123  "
      ]
    },
    {
      "cell_type": "code",
      "metadata": {
        "id": "S_LeqEVd__Cc",
        "colab": {
          "base_uri": "https://localhost:8080/"
        },
        "outputId": "267b3d5c-48af-4055-8f7b-eec479ad5284"
      },
      "source": [
        "def check_largest(num1, num2, num3):\n",
        "  #will find the largest of 3 numbers\n",
        "  largest = num1\n",
        "  if num2 > largest:\n",
        "    largest = num2\n",
        "  if num3 > largest:\n",
        "    largest = num3\n",
        "  return largest\n",
        "\n",
        "number = check_largest(3, 5, 8)\n",
        "print(number)\n",
        "number = check_largest(5, 7, 2)\n",
        "print(number)\n",
        "number = check_largest(123, 45, 122)\n",
        "print(number)"
      ],
      "execution_count": 76,
      "outputs": [
        {
          "output_type": "stream",
          "name": "stdout",
          "text": [
            "8\n",
            "7\n",
            "123\n"
          ]
        }
      ]
    },
    {
      "cell_type": "markdown",
      "metadata": {
        "id": "cbrFvknfAO05"
      },
      "source": [
        "---\n",
        "### Exercise 6 - average of 5 numbers\n",
        "\n",
        "Write a function calculate_average(num1, num2, num3, num4, num5) which will calculate the average of the 5 numbers given.  \n",
        "\n",
        "Test input:  \n",
        "calculate_average(1,2,3,4,5)  \n",
        "calculate_average(10002, 30004, 5005, 3333333, 12345)  \n",
        "\n",
        "Expected output:  \n",
        "3.0  \n",
        "678137.8"
      ]
    },
    {
      "cell_type": "code",
      "metadata": {
        "id": "BFTEfne8APF5",
        "colab": {
          "base_uri": "https://localhost:8080/"
        },
        "outputId": "c5eb6f4c-30b5-4649-aa84-0a0ca9a3f6c2"
      },
      "source": [
        "def calculate_average(num1, num2, num3, num4, num5):\n",
        "  #will find the average of 5 numbers\n",
        "  average = (num1 + num2 + num3 + num4 + num5) / 5\n",
        "  return average\n",
        "\n",
        "number = calculate_average(1, 2, 3, 4, 5)\n",
        "print(number)\n",
        "number = calculate_average(10002, 30004, 5005, 3333333, 12345)\n",
        "print(number)"
      ],
      "execution_count": 82,
      "outputs": [
        {
          "output_type": "stream",
          "name": "stdout",
          "text": [
            "3.0\n",
            "678137.8\n"
          ]
        }
      ]
    },
    {
      "cell_type": "markdown",
      "metadata": {
        "id": "Z58a7qa1BQ6j"
      },
      "source": [
        "---\n",
        "### Exercise 7 - calculate price\n",
        "\n",
        "Write a function called **calculate_price(product_price, items)** which will:\n",
        "\n",
        "*  ask the user to enter any **discount** they have (this can be 10% or 25% only), if the discount value is invalid, do not apply a discount   \n",
        "*  calculate the price of the items, including the discount\n",
        "*  return the `discounted price`\n",
        "\n",
        "Test input:  \n",
        "product_price is 3.50  \n",
        "number of items is 4  \n",
        "user enters discount of 10%  \n",
        "\n",
        "Expected output:  \n",
        "Discounted price: £ 12.60\n",
        "\n",
        "Test input:  \n",
        "product_price is 8.99  \n",
        "number of items is 10  \n",
        "user enters discount of 50%   \n",
        "\n",
        "Expected output:  \n",
        "Discounted price: £ 89.90  "
      ]
    },
    {
      "cell_type": "code",
      "metadata": {
        "id": "lSHhdyhUBRKr",
        "colab": {
          "base_uri": "https://localhost:8080/"
        },
        "outputId": "6104833c-bc20-4c2b-e999-40cd6b83ae39"
      },
      "source": [
        "from ast import Str\n",
        "def calculate_price(product_price, items):\n",
        "  #will calculate the price of the items including the discount\n",
        "  discount = input(\"Enter a discount of '10%' or '25%': \")\n",
        "  if discount == \"10%\" or discount == \"25%\":\n",
        "    if discount == \"10%\":\n",
        "      discount = 0.9\n",
        "    else:\n",
        "      discount = 0.75\n",
        "    discounted_price = product_price * items * discount\n",
        "    return discounted_price\n",
        "  else:\n",
        "    discounted_price = product_price * items\n",
        "    return discounted_price\n",
        "\n",
        "number = calculate_price(3.50, 4)\n",
        "print(\"£\" + str(number))\n",
        "number = calculate_price(8.99, 10)\n",
        "print(\"£\" + str(number))"
      ],
      "execution_count": 90,
      "outputs": [
        {
          "output_type": "stream",
          "name": "stdout",
          "text": [
            "Enter a discount of '10%' or '25%': 10%\n",
            "£12.6\n",
            "Enter a discount of '10%' or '25%': 50%\n",
            "£89.9\n"
          ]
        }
      ]
    },
    {
      "cell_type": "markdown",
      "metadata": {
        "id": "NG2u2VT-CwO6"
      },
      "source": [
        "---\n",
        "### Exercise 8 - reverse a string\n",
        "\n",
        " Write a function called **reverse_string(word)** which will:  \n",
        "\n",
        " *  reverse the letters in the word  \n",
        " *  return the **reversed** `word` for printing\n",
        "\n",
        "[Help if you need it](https://www.w3schools.com/python/python_howto_reverse_string.asp)  \n",
        "\n",
        " Test input:  \n",
        " tiger  \n",
        "\n",
        " Expected output:  \n",
        " regit\n",
        "\n",
        " Test input:  \n",
        " Expected\n",
        "\n",
        " Expected output:  \n",
        " detcepxE"
      ]
    },
    {
      "cell_type": "code",
      "metadata": {
        "id": "OdHYWCJMCwaI",
        "colab": {
          "base_uri": "https://localhost:8080/"
        },
        "outputId": "0e23e915-c8bb-4003-8a1b-dd368cd27fc7"
      },
      "source": [
        "def reverse_string(word):\n",
        "  #will reverse the letters in the word\n",
        "  reversed_word = word[::-1]\n",
        "  return reversed_word\n",
        "\n",
        "word = reverse_string(\"tiger\")\n",
        "print(word)\n",
        "word = reverse_string(\"Expected\")\n",
        "print(word)"
      ],
      "execution_count": 91,
      "outputs": [
        {
          "output_type": "stream",
          "name": "stdout",
          "text": [
            "regit\n",
            "detcepxE\n"
          ]
        }
      ]
    },
    {
      "cell_type": "markdown",
      "metadata": {
        "id": "QPHDjtXXEJ92"
      },
      "source": [
        "---\n",
        "### Exercise 9 - find factorial\n",
        "\n",
        "Write a function called **calculate_factorial(num)** which will:\n",
        "\n",
        "*  if `num` is negative set **factorial** to -1\n",
        "*  if `num` isn't negative, if it is 0 then set `factorial` to 1\n",
        "*  if `num` isn't 0 then calculate `factorial` (multiply the numbers from `num` down to 1\n",
        "*  return `factorial`.   \n",
        "\n",
        "Test inputs:  \n",
        "calculate_factorial(5)  \n",
        "calculate_factorial(-5)  \n",
        "calculate_factorial(0)    \n",
        "\n",
        "Expected outputs:  \n",
        "120  \n",
        "-1  \n",
        "1    "
      ]
    },
    {
      "cell_type": "code",
      "metadata": {
        "id": "QAln19ReEKH5",
        "colab": {
          "base_uri": "https://localhost:8080/"
        },
        "outputId": "6333d451-a180-4b65-9bbc-34755e0d4bd8"
      },
      "source": [
        "def calculate_factorial(num):\n",
        "  #returns the factorial\n",
        "  if num < 0:\n",
        "    factorial = -1\n",
        "  elif num == 0:\n",
        "    factorial = 1\n",
        "  else:\n",
        "    factorial = 1\n",
        "    for i in range(1, num + 1):\n",
        "      factorial *= i\n",
        "  return factorial\n",
        "\n",
        "number = calculate_factorial(5)\n",
        "print(number)\n",
        "number = calculate_factorial(-5)\n",
        "print(number)\n",
        "number = calculate_factorial(0)\n",
        "print(number)"
      ],
      "execution_count": 92,
      "outputs": [
        {
          "output_type": "stream",
          "name": "stdout",
          "text": [
            "120\n",
            "-1\n",
            "1\n"
          ]
        }
      ]
    },
    {
      "cell_type": "markdown",
      "metadata": {
        "id": "x-JvvWUVFvY8"
      },
      "source": [
        "---\n",
        "### Exercise 10 - palindrome  \n",
        "\n",
        "Write a function called **is_palindrome(word)** which will return True if the `word` passed in is a palindrome (ie it reads the same in reverse) and False if not.\n",
        "\n",
        "*Hint:  remember that upper case and lower case letters are not seen as the same by Python, there are [case conversion](https://www.codecademy.com/learn/learn-python-3/modules/learn-python3-strings/cheatsheet) functions you can use to help with this.*\n",
        "\n",
        "Test input:  \n",
        "is_palindrome(\"racecar\")  \n",
        "is_palindrome(\"Racecar\")  \n",
        "is_palindrome(\"banana\")  \n",
        "\n",
        "Expected output:  \n",
        "True  \n",
        "True  \n",
        "False  "
      ]
    },
    {
      "cell_type": "code",
      "metadata": {
        "id": "Jx0ZSYl0FvjD",
        "colab": {
          "base_uri": "https://localhost:8080/"
        },
        "outputId": "2d0735dc-b0fd-42cd-efcb-3b26a0baaf7f"
      },
      "source": [
        "def is_palindrome(word):\n",
        "  #will check if the word is a palindrome\n",
        "  word = word.lower()\n",
        "  if word == word[::-1]:\n",
        "    return True\n",
        "  else:\n",
        "    return False\n",
        "\n",
        "\n",
        "word = is_palindrome(\"racecar\")\n",
        "print(word)\n",
        "word = is_palindrome(\"Racecar\")\n",
        "print(word)\n",
        "word = is_palindrome(\"banana\")\n",
        "print(word)"
      ],
      "execution_count": 94,
      "outputs": [
        {
          "output_type": "stream",
          "name": "stdout",
          "text": [
            "True\n",
            "True\n",
            "False\n"
          ]
        }
      ]
    },
    {
      "cell_type": "markdown",
      "source": [
        "## Your thoughts on what you have learnt\n",
        "Please add some comments in the box below to reflect on what you have learnt through completing this worksheet, and any problems you encountered while doing so."
      ],
      "metadata": {
        "id": "U_J4qlpgvtWP"
      }
    },
    {
      "cell_type": "markdown",
      "source": [
        "I found this section quitrre fun and a nice way to explore the buts that make up user defined fuctions and how they can be utilised in multiple different formats. Its also gave me an sight in ways I could simplify other codes I have written previously. It was also a nice break after the hard slog that was the data cleaning section!"
      ],
      "metadata": {
        "id": "sKMXhunpvuWV"
      }
    }
  ]
}