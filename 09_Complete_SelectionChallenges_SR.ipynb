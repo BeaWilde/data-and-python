{
  "nbformat": 4,
  "nbformat_minor": 0,
  "metadata": {
    "colab": {
      "provenance": [],
      "include_colab_link": true
    },
    "kernelspec": {
      "name": "python3",
      "display_name": "Python 3"
    }
  },
  "cells": [
    {
      "cell_type": "markdown",
      "metadata": {
        "id": "view-in-github",
        "colab_type": "text"
      },
      "source": [
        "<a href=\"https://colab.research.google.com/github/BeaWilde/data-and-python/blob/main/09_Complete_SelectionChallenges_SR.ipynb\" target=\"_parent\"><img src=\"https://colab.research.google.com/assets/colab-badge.svg\" alt=\"Open In Colab\"/></a>"
      ]
    },
    {
      "cell_type": "markdown",
      "metadata": {
        "id": "-QxAKPD8DZfj"
      },
      "source": [
        "# Three selection challenges\n",
        "\n",
        "---\n"
      ]
    },
    {
      "cell_type": "markdown",
      "metadata": {
        "id": "2KYUALILDcM9"
      },
      "source": [
        "### Challenge 1 - password format  \n",
        "\n",
        "Write a function called **check_password_valid()** which will check the validity of a **password** input by a user.\n",
        "\n",
        "Rules for a valid password are:  \n",
        "\n",
        "*  At least 1 letter between [a-z] and 1 letter between [A-Z].\n",
        "*  At least 1 number between [0-9].\n",
        "*  At least 1 character from [$#@].\n",
        "*  Minimum length 6 characters.\n",
        "*  Maximum length 16 characters.  \n",
        "\n",
        "Let the user know if the `password` they have typed is valid and, if not, where was the first error.\n",
        "\n",
        "*Hint:  to test if a set of characters is present in a password String, you can use re.search('[character set]', `password`)*  \n",
        "\n",
        "Example:   \n",
        "*if re.search('[a-z]',`password`):*    \n",
        "if there is at least 1 character a-z in the password, re.search will not be None.\n",
        "\n",
        "**re** is a pre-written Python function for pattern searching in Strings.  It has been imported for you in the code cell below.  "
      ]
    },
    {
      "cell_type": "code",
      "metadata": {
        "id": "8wBK9IA4BO2e",
        "colab": {
          "base_uri": "https://localhost:8080/"
        },
        "outputId": "0d4d66c4-1682-4bd7-d323-e8340b59b2b2"
      },
      "source": [
        "import re\n",
        "\n",
        "# add your check_PasswordValid() function and call below here\n",
        "def check_password_valid():\n",
        "  #will check if password follows rules\n",
        "\n",
        "  password = input(\"Please enter a password: \")\n",
        "\n",
        "  if len(password) >= 6 and len(password) <= 16:\n",
        "    pass\n",
        "  else:\n",
        "      print(\"Password is not valid - password needs to be between six and sixteen characters\")\n",
        "  if re.search('[a-z]', password):\n",
        "    pass\n",
        "  else:\n",
        "      print(\"Password is not valid - needs to contain at least one lowercase letter\")\n",
        "  if re.search('[A-Z]', password):\n",
        "    pass\n",
        "  else:\n",
        "      print(\"Password is not valid - needs to contain at least one uppercase letter\")\n",
        "  if re.search('[0-9]', password):\n",
        "    pass\n",
        "  else:\n",
        "      print(\"Password is not valid - needs to contain at least one number\")\n",
        "  if re.search('[$#@]', password):\n",
        "    print(\"Password is valid\")\n",
        "  else:\n",
        "      print(\"Password is not valid - needs to contain at least one special character\")\n",
        "\n",
        "\n",
        "\n",
        "check_password_valid()"
      ],
      "execution_count": null,
      "outputs": [
        {
          "output_type": "stream",
          "name": "stdout",
          "text": [
            "Please enter a password: aaaaaa\n",
            "Password is not valid - needs to contain at least one uppercase letter\n",
            "Password is not valid - needs to contain at least one number\n",
            "Password is not valid - needs to contain at least one special character\n"
          ]
        }
      ]
    },
    {
      "cell_type": "markdown",
      "metadata": {
        "id": "f0R4GYTEFQS-"
      },
      "source": [
        "---\n",
        "### Challenge 2 - triangle shape  \n",
        "\n",
        "Write a function called **evaluate_triangle_shape()** which will check if a triangle is equilateral, isosceles or scalene, based on the three side lengths entered by a user (**x**, **y** and **z**.\n",
        "\n",
        "An equilateral triangle is a triangle in which all three sides are equal.\n",
        "A scalene triangle is a triangle that has three unequal sides.\n",
        "An isosceles triangle is a triangle with (at least) two equal sides.\n",
        "\n",
        "For example:  \n",
        "A triange with side lengths                                 \n",
        "x: 6                                                                    \n",
        "y: 8                                                                    \n",
        "z: 12                                                                   \n",
        "is a *Scalene triangle*\n",
        "\n",
        "A triangle with side lengths\n",
        "x:5  \n",
        "y:3   \n",
        "z:5  \n",
        "is an *Isosceles triangle*"
      ]
    },
    {
      "cell_type": "code",
      "metadata": {
        "id": "oBgl4ro1DVL0",
        "colab": {
          "base_uri": "https://localhost:8080/"
        },
        "outputId": "abce67c6-998f-4c3b-9643-7f81dc1205e0"
      },
      "source": [
        "def evaluate_triangle_shape():\n",
        "  #what type of triangle have I entered?\n",
        "  x = int(input(\"What is the length of side x? e.g. 6: \"))\n",
        "  y = int(input(\"What is the length of side y? e.g. 8: \"))\n",
        "  z = int(input(\"What is the length of side z? e.g. 12: \"))\n",
        "\n",
        "  if x == y == z:\n",
        "    print(\"This triangle is an equilateral triangle\")\n",
        "  elif x == y or x == z or y == z:\n",
        "    print(\"This triangle is an isosceles triangle\")\n",
        "  else:\n",
        "    print(\"This triangle is a scalene triangle\")\n",
        "\n",
        "evaluate_triangle_shape()"
      ],
      "execution_count": null,
      "outputs": [
        {
          "output_type": "stream",
          "name": "stdout",
          "text": [
            "What is the length of side x? e.g. 6: 5\n",
            "What is the length of side y? e.g. 8: 3\n",
            "What is the length of side z? e.g. 12: 5\n",
            "This triangle is an isosceles triangle\n"
          ]
        }
      ]
    },
    {
      "cell_type": "markdown",
      "metadata": {
        "id": "hr2EotkqG33l"
      },
      "source": [
        "---\n",
        "### Challenge 3 - which season\n",
        "\n",
        "Write a function called **determine_season()** which will ask the user to enter two integers representing a **month** and **day** and prints the season for that month and day.\n",
        "\n",
        "Note:  for this exercise the season dates are:\n",
        "*  Winter December 21 to March 20    \n",
        "*  Spring March 21 to June 20  \n",
        "*  Summer June 21 to September 20  \n",
        "*  Autumn September 21 to December 20\n",
        "\n",
        "Test input:  \n",
        "Input the month (e.g. January, February etc.): 7                     \n",
        "Input the day: 31                                                       \n",
        "\n",
        "Expected output:  \n",
        "Season is summer\n",
        "\n",
        "*Note: this will require multiple and or or operators and you should use brackets to help Python know which operations to do first*  \n",
        "\n",
        "*For an extra challenge you can check that the day is valid for the month*"
      ]
    },
    {
      "cell_type": "code",
      "metadata": {
        "id": "cvbfz8nzG4IL",
        "colab": {
          "base_uri": "https://localhost:8080/"
        },
        "outputId": "600fbaef-0b73-4842-a3e0-b08cb71b7bd7"
      },
      "source": [
        "def determine_season():\n",
        "  #will determine the season using the month and the day\n",
        "\n",
        "  month = int(input(\"What month is it? (e.g. 7.): \"))\n",
        "  day = int(input(\"What day is it? e.g. 31: \"))\n",
        "\n",
        "  if ((day >= 32 or day == 0) and (month == 1 or month == 3 or month == 5 or month == 7 or month == 8 or month == 10 or month == 12)):\n",
        "    print(\"This date does not exist for this month\")\n",
        "  elif ((day > 30 or day == 0) and (month == 4 or month == 6 or month == 9 or month == 11)):\n",
        "    print(\"This date does not exist for this month\")\n",
        "  elif ((day > 29 or day == 0)and month == 2):\n",
        "    print(\"This date does not exist for this month\")\n",
        "  else:\n",
        "    if ((month == 12 and day >= 2) or (month == 1 or month == 2) or (month == 3 and day <= 20)):\n",
        "      print(\"Season is winter\")\n",
        "    elif ((month == 3 and day >= 21) or (month == 4 or month == 5) or (month == 6 and day <= 20)):\n",
        "      print(\"Season is spring\")\n",
        "    elif ((month == 6 and day >= 21) or (month == 7 or month == 8) or (month == 9 and day <= 20)):\n",
        "      print(\"Season is summer\")\n",
        "    elif month == ((9 and day >= 21) or (month == 10 or month == 11) or (month == 12 and day <= 20)):\n",
        "      print(\"Season is autumn\")\n",
        "    else:\n",
        "        print(\"Invalid input\")\n",
        "\n",
        "determine_season()"
      ],
      "execution_count": null,
      "outputs": [
        {
          "output_type": "stream",
          "name": "stdout",
          "text": [
            "What month is it? (e.g. 7.): 07\n",
            "What day is it? e.g. 31: 31\n",
            "Season is summer\n"
          ]
        }
      ]
    },
    {
      "cell_type": "markdown",
      "source": [
        "---\n",
        "# Your thoughts on what you have learnt from these challenges  \n",
        "\n",
        "Please add some comments in the box below to reflect on what you have learnt through completing this worksheet, and any problems you encountered while doing so."
      ],
      "metadata": {
        "id": "xr6B589Youcr"
      }
    },
    {
      "cell_type": "markdown",
      "source": [
        "I found this challenges very good as you had to be a lot more proactive when problem solving these ones. you had to not only think if a good solution but also tihnk about how this would work using the pyhton I know and how I can improvise when things dont seem to be going well.\n",
        "\n",
        "  I especially enjoyed question 3 and trying to implement the additional challenge question. I think If I had to do something similar in Excel I would be stumped as I would be lost in the formatting but I like that the indentation is there to help you and you c"
      ],
      "metadata": {
        "id": "qIfjax_VovRz"
      }
    }
  ]
}