{
  "nbformat": 4,
  "nbformat_minor": 0,
  "metadata": {
    "colab": {
      "provenance": [],
      "include_colab_link": true
    },
    "kernelspec": {
      "name": "python3",
      "display_name": "Python 3"
    }
  },
  "cells": [
    {
      "cell_type": "markdown",
      "metadata": {
        "id": "view-in-github",
        "colab_type": "text"
      },
      "source": [
        "<a href=\"https://colab.research.google.com/github/BeaWilde/data-and-python/blob/main/08_Complete_Selection_SR.ipynb\" target=\"_parent\"><img src=\"https://colab.research.google.com/assets/colab-badge.svg\" alt=\"Open In Colab\"/></a>"
      ]
    },
    {
      "cell_type": "markdown",
      "metadata": {
        "id": "GhX3Slbcp0ZV"
      },
      "source": [
        "## Selection (if...elif...else)\n",
        "\n",
        "---\n"
      ]
    },
    {
      "cell_type": "markdown",
      "metadata": {
        "id": "8hOKtaP7p8Nj"
      },
      "source": [
        "A key part of problem solving is decision making.  Decisions are based on data and have a set of outcomes depending on that data.\n",
        "\n",
        "A program is a sequence of instructions to be followed by the computer, to solve a particular problem.    \n",
        "\n",
        "It is not always useful for programs to do the exact same thing every time, in exactly the same way.  \n",
        "\n",
        "Say we have a program that will tell someone if they are too young to drive a car. We don't want it to tell them this if they are 17 or over. So we use an if statement to say: *if the user's age is less than 17, tell them they are too young to drive a car.*\n",
        "\n",
        "Run the code in the cell below to see what happens if you type in the year 2010.  Then try the year 2000."
      ]
    },
    {
      "cell_type": "code",
      "metadata": {
        "id": "kVSTvk8ZtJkG",
        "colab": {
          "base_uri": "https://localhost:8080/"
        },
        "outputId": "d14614a9-d6ff-4cdf-d744-a921232c3160"
      },
      "source": [
        "from datetime import datetime\n",
        "\n",
        "# determine if user is old enough to drive\n",
        "def drive_age():\n",
        "    birth_year = int(input(\"What year were you born?\"))\n",
        "    current_year = datetime.now().year\n",
        "    age = current_year - birth_year\n",
        "    if age < 17:\n",
        "        print(\"You are too young to drive a car\")\n",
        "\n",
        "drive_age()"
      ],
      "execution_count": null,
      "outputs": [
        {
          "name": "stdout",
          "output_type": "stream",
          "text": [
            "What year were you born?2000\n"
          ]
        }
      ]
    },
    {
      "cell_type": "markdown",
      "metadata": {
        "id": "ZRdkf0RTtjCE"
      },
      "source": [
        "---\n",
        "## Using else    \n",
        "\n",
        "So the program tells someone if they are too young to drive but if they are old enough it doesn't do anything. We need to give it an alternative action.  \n",
        "\n",
        "Run the code in the cell below to see if it works for the years 2010 and 2000  "
      ]
    },
    {
      "cell_type": "code",
      "metadata": {
        "id": "2kWB9YtbuB5G",
        "colab": {
          "base_uri": "https://localhost:8080/"
        },
        "outputId": "ae90f5a7-c0fb-4cbc-9807-e0bf8b9f01ee"
      },
      "source": [
        "from datetime import datetime\n",
        "\n",
        "# determine if user is old enough to drive or not\n",
        "def drive_age():\n",
        "    birth_year = int(input(\"What year were you born?\"))\n",
        "    current_year = datetime.now().year\n",
        "    age = current_year - birth_year\n",
        "    if age < 17:\n",
        "        print(\"You are too young to drive a car\")\n",
        "    else:\n",
        "        print(\"You are old enough to drive a car\")\n",
        "\n",
        "drive_age()"
      ],
      "execution_count": null,
      "outputs": [
        {
          "output_type": "stream",
          "name": "stdout",
          "text": [
            "What year were you born?2000\n",
            "You are old enough to drive a car\n"
          ]
        }
      ]
    },
    {
      "cell_type": "markdown",
      "metadata": {
        "id": "5_czxkMEuIBk"
      },
      "source": [
        "An if..else statement is written like this:  \n",
        "\n",
        "```\n",
        "if A CONDITION IS TRUE :  \n",
        "  DO SOMETHING  \n",
        "else:  \n",
        "  DO SOMETHING ELSE\n",
        "```\n",
        "\n",
        "\n",
        "Important things to know:  \n",
        "\n",
        "A CONDITION can be *True* or *False* either because it is a boolean variable (storing the value True or False) or because it is using some form of comparison or logical operator:\n",
        "\n",
        "age < 17\n",
        "This is *True* if the value of **age** is less than 17 and *False* if the value of age is 17 or above\n",
        "\n",
        "name == \"Bill\"\n",
        "This is *True* if the value of the variable **name** is \"Bill\" and *False* if the value is any other name\n",
        "\n",
        "height >= 150\n",
        "This is *True* if the value of **height** is greater than, or equal to, 150 and *False* if the value is less than 150\n",
        "\n",
        "### What if there is more than one option?\n",
        "If you ask someone their age, then there may be a number of different things you can print depending on what the age is:  \n",
        "\n",
        "Run the code in the cell below, try some different ages to get different results.    "
      ]
    },
    {
      "cell_type": "code",
      "metadata": {
        "id": "cKKbVayNvKU_",
        "colab": {
          "base_uri": "https://localhost:8080/"
        },
        "outputId": "ee04335d-a602-4728-ac00-dd2c7a0cfcb3"
      },
      "source": [
        "def age_to_drive():\n",
        "    age = int(input(\"Please enter your age\"))\n",
        "    if age >= 17:\n",
        "        print(\"You are old enough to drive\")\n",
        "    elif age >= 13:\n",
        "        print(\"You are too young to drive but you are old enough to have a social media account\")\n",
        "    else:\n",
        "        print(\"You are too young to drive and to have a social media account\")\n",
        "\n",
        "age_to_drive()"
      ],
      "execution_count": null,
      "outputs": [
        {
          "output_type": "stream",
          "name": "stdout",
          "text": [
            "Please enter your age3\n",
            "You are too young to drive and to have a social media account\n"
          ]
        }
      ]
    },
    {
      "cell_type": "markdown",
      "metadata": {
        "id": "t8-NQ7QevL3z"
      },
      "source": [
        "Here's another example, try this one out:    \n",
        "*  ask the user to enter their **name**.    \n",
        "*  if their `name` is Bill then print \"Where is Ben?\"  \n",
        "*  if their `name` is Ben print \"Where is Bill?\"  \n",
        "*  otherwise print \"Where are Bill and Ben?\"  "
      ]
    },
    {
      "cell_type": "code",
      "metadata": {
        "id": "lY9VVvQQvuM9",
        "colab": {
          "base_uri": "https://localhost:8080/"
        },
        "outputId": "acec3c98-04c1-424d-a102-be0f3731e2fc"
      },
      "source": [
        "def bill_or_ben():\n",
        "    name = input(\"Who are you?\")\n",
        "    if name == \"Bill\":\n",
        "      print(\"Where is Ben?\")\n",
        "    elif name == \"Ben\":\n",
        "      print(\"Where is Bill?\")\n",
        "    else:\n",
        "      print(\"Where are Bill and Ben?\")\n",
        "\n",
        "bill_or_ben()"
      ],
      "execution_count": null,
      "outputs": [
        {
          "output_type": "stream",
          "name": "stdout",
          "text": [
            "Who are you?Ben\n",
            "Where is Bill?\n"
          ]
        }
      ]
    },
    {
      "cell_type": "markdown",
      "metadata": {
        "id": "-ouEfBiaqKc7"
      },
      "source": [
        "---\n",
        "### Exercise 1  - if and else\n",
        "\n",
        "Write a function called **find_greater()** which will:\n",
        "\n",
        "*  ask the user for 2 numbers (**num1** and **num2**)  \n",
        "*  use an `if` statement that compares the two numbers and prints the one that is the greater of the two.  "
      ]
    },
    {
      "cell_type": "code",
      "metadata": {
        "id": "BIhqeCOHpzOS",
        "colab": {
          "base_uri": "https://localhost:8080/"
        },
        "outputId": "2bdbe574-3c13-48da-b03a-185526d3eb26"
      },
      "source": [
        "def find_greater():\n",
        "  #prints the greater number\n",
        "  num1 = int(input(\"Please input a number\"))\n",
        "  num2 = int(input(\"Please input a number\"))\n",
        "  if num1 > num2:\n",
        "    print (num1)\n",
        "  else:\n",
        "    print (num2)\n",
        "\n",
        "find_greater()"
      ],
      "execution_count": null,
      "outputs": [
        {
          "output_type": "stream",
          "name": "stdout",
          "text": [
            "Please input a number8\n",
            "Please input a number7\n",
            "8\n"
          ]
        }
      ]
    },
    {
      "cell_type": "markdown",
      "metadata": {
        "id": "vkKL17eFy_R-"
      },
      "source": [
        "---\n",
        "### Exercise 2 -\n",
        "\n",
        "Write a function called **guess_number(random_number)** which will use the generated **random_number**, between 1 and 100, provided in the brackets (called a parameter):  \n",
        "\n",
        "*  ask the user to **guess** the `random_number`  \n",
        "*  if the `guess` is greater than the `random_number` print \"Too high\"  \n",
        "*  else if the `guess` is less than the `random_number` print \"Too low\"  \n"
      ]
    },
    {
      "cell_type": "code",
      "metadata": {
        "id": "hmKpcdRv0UOd",
        "colab": {
          "base_uri": "https://localhost:8080/"
        },
        "outputId": "74414aeb-5425-4f0c-afca-bd93fe760922"
      },
      "source": [
        "from random import randint\n",
        "\n",
        "def guess_number(random_number):\n",
        "  # is your number greater or lesser\n",
        "  guess = int(input(\"Please guess a number between 1 and 100\"))\n",
        "  if guess > random_number:\n",
        "    print (\"Too high\")\n",
        "  elif guess < random_number:\n",
        "    print (\"Too low\")\n",
        "\n",
        "guess_number(randint(1,100))"
      ],
      "execution_count": null,
      "outputs": [
        {
          "output_type": "stream",
          "name": "stdout",
          "text": [
            "Please guess a number between 1 and 100100\n",
            "Too high\n"
          ]
        }
      ]
    },
    {
      "cell_type": "markdown",
      "metadata": {
        "id": "70COtAzd0UcZ"
      },
      "source": [
        "---\n",
        "### Exercise 3 - AM or PM\n",
        "\n",
        "Write a function called **is_afternoon()** which will:\n",
        "\n",
        "*  ask the user to enter the **time** in 24 hour clock format (e.g. 1759)  \n",
        "*  use floor division (by 100) to calculate the **hour**  \n",
        "*  use modulus (100) to calculate the **minutes**  \n",
        "*  if the **hour** is 12 or greater, assign \"PM\" to a variable called **am_pm** AND subtract 12 from `hour` and store the result back in `hour`  \n",
        "*  else assign \"AM\" to the `am_pm` variable   \n",
        "*  assign the value str(`hour`) + \":\" + str(`minutes`) + `am_pm` to a new variable called **text_time**  \n",
        "*  print the message \"The time is\", `text_time`    \n",
        "\n",
        "Test input:  \n",
        "1759  \n",
        "\n",
        "Expected output:  \n",
        "The time is 5:59PM  \n",
        "\n",
        "Test input:  \n",
        "1132  \n",
        "\n",
        "Expected output:  \n",
        "The time is 11:32AM"
      ]
    },
    {
      "cell_type": "code",
      "metadata": {
        "id": "FCVRtwjd2ZnH",
        "colab": {
          "base_uri": "https://localhost:8080/"
        },
        "outputId": "3f6a20d3-484c-4360-d518-4532604a29b3"
      },
      "source": [
        "def is_afternoon():\n",
        "  #is it an afternoon or morning time?\n",
        "  time = int(input(\"Please enter the time in 24 hour clock format e.g.1759: \"))\n",
        "\n",
        "  hour = time // 100\n",
        "  minutes = time % 100\n",
        "\n",
        "  if hour >= 12:\n",
        "    am_pm = \"PM\"\n",
        "    hour = hour - 12\n",
        "  else:\n",
        "    am_pm = \"AM\"\n",
        "\n",
        "  text_time = str(hour) + \":\" + str(minutes) + am_pm\n",
        "  print (\"The time is\", text_time)\n",
        "\n",
        "is_afternoon()"
      ],
      "execution_count": null,
      "outputs": [
        {
          "output_type": "stream",
          "name": "stdout",
          "text": [
            "Please enter the time in 24 hour clock format e.g.1759: 1132\n",
            "The time is 11:32AM\n"
          ]
        }
      ]
    },
    {
      "cell_type": "markdown",
      "metadata": {
        "id": "pMnxknLW3XlM"
      },
      "source": [
        "---\n",
        "### Exercise 4 - Getting a number within limits\n",
        "\n",
        "Write a function called **validate()** which will:\n",
        "\n",
        "*  ask the user to enter a **number** between 1 and 100  \n",
        "*  if the `number` is less than 1 or more than 100, print the error message \"Number out of limits\"  \n",
        "*  else print \"Your number was\" followed by the `number`\n",
        "\n",
        "Test input:  \n",
        "50  \n",
        "\n",
        "Expected output:  \n",
        "Your number was 50  \n",
        "\n",
        "Test input:  \n",
        "150  \n",
        "\n",
        "Expected output:  \n",
        "Number out of limits"
      ]
    },
    {
      "cell_type": "code",
      "metadata": {
        "id": "cO7r4kYY3_aA",
        "colab": {
          "base_uri": "https://localhost:8080/"
        },
        "outputId": "ed179d38-4928-49a7-dc64-71f3557bac0b"
      },
      "source": [
        "def validate():\n",
        "  #which check if number is within limits\n",
        "  number = int(input(\"Please enter a number between 1 and 100: \"))\n",
        "\n",
        "  if number < 1:\n",
        "    print (\"Number out of limits\")\n",
        "  elif number > 100:\n",
        "    print (\"Number out of limits\")\n",
        "  else:\n",
        "    print (\"Your number was\", number)\n",
        "\n",
        "validate()"
      ],
      "execution_count": null,
      "outputs": [
        {
          "output_type": "stream",
          "name": "stdout",
          "text": [
            "Please enter a number between 1 and 100: 150\n",
            "Number out of limits\n"
          ]
        }
      ]
    },
    {
      "cell_type": "markdown",
      "metadata": {
        "id": "NVecdtXu4AsM"
      },
      "source": [
        "---\n",
        "### Exercise 5 - getting a menu choice  \n",
        "\n",
        "Write a function called **process_menu()** which will:\n",
        "\n",
        "*  print the following menu:  \n",
        "\n",
        "What value would you like to see?  \n",
        "\n",
        "1. Pi  \n",
        "2. Plank’s constant  \n",
        "3. E  \n",
        "4. Square root of 2  \n",
        "\n",
        "*  ask the user to choose a **menu_option**  \n",
        "*  if the `menu_option` chosen is not between 1 and 4, print \"Invalid choice\"  \n",
        "*  else print the number of the `menu_option` chosen\n",
        "\n",
        "Test input:  \n",
        "2  \n",
        "\n",
        "Expected output:  \n",
        "2  \n",
        "\n",
        "Test input:  \n",
        "5  \n",
        "\n",
        "Expected output:  \n",
        "Invalid choice"
      ]
    },
    {
      "cell_type": "code",
      "metadata": {
        "id": "OXRoUAE15Oqq",
        "colab": {
          "base_uri": "https://localhost:8080/"
        },
        "outputId": "64552f47-d15e-4b8d-9f97-34cda8c2abeb"
      },
      "source": [
        "def process_menu():\n",
        "#prints menu and asks the user which part they would like to see\n",
        "\n",
        "  menu = \"What value would you like to see?\" + \"\\n\" + \"1.Pi\" + \"\\n\" +\"2.Plank's constant\" + \"\\n\" + \"3.E\" + \"\\n\" + \"4.Square root of 2\"\n",
        "  print (menu)\n",
        "\n",
        "  menu_option = int(input(\"Please choose a menu option: \"))\n",
        "\n",
        "  if menu_option < 1:\n",
        "    print (\"Invalid choice\")\n",
        "  elif menu_option > 4:\n",
        "    print (\"Invalid choice\")\n",
        "  else:\n",
        "    print (menu_option)\n",
        "\n",
        "process_menu()"
      ],
      "execution_count": null,
      "outputs": [
        {
          "output_type": "stream",
          "name": "stdout",
          "text": [
            "What value would you like to see?\n",
            "1.Pi\n",
            "2.Plank's constant\n",
            "3.E\n",
            "4.Square root of 2\n",
            "Please choose a menu option: 5\n",
            "Invalid choice\n"
          ]
        }
      ]
    },
    {
      "cell_type": "markdown",
      "metadata": {
        "id": "XLDdZqZd5O1s"
      },
      "source": [
        "---\n",
        "### Exercise 6 - acting on menu choice  \n",
        "\n",
        "Write a function called **process_menu_options()** which will:  \n",
        "\n",
        "*  print the following menu:  \n",
        "\n",
        "What value would you like to see?  \n",
        "\n",
        "1. Pi  \n",
        "2. Plank’s constant  \n",
        "3. E  \n",
        "4. Square root of 2  \n",
        "\n",
        "*  ask the user to choose a **menu_option**  \n",
        "*  if the `menu_option` is 1 print 3.14159265359  \n",
        "*  otherwise (*elif*) the `menu_option` is 2 print 6.62607004 × 10^-34 (in Python this would be written 6.62607004E-34)  \n",
        "*  otherwise if the `menu_option` is 3 - print 2.71828  \n",
        "*  otherwise if the `menu_option` is 4 - print 1.414  \n",
        "*  otherwise if the `menu_option` is anything *else* - print \"Invalid choice\"  \n",
        "\n",
        "Test input:  \n",
        "1  \n",
        "\n",
        "Expected output:  \n",
        "3.14159265359\n",
        "\n",
        "Test input:  \n",
        "4  \n",
        "\n",
        "Expected output:  \n",
        "1.414  \n",
        "\n",
        "Test input:  \n",
        "9  \n",
        "\n",
        "Expected output:  \n",
        "Invalid choice\n"
      ]
    },
    {
      "cell_type": "code",
      "metadata": {
        "id": "dXKzF9NI6mrB",
        "colab": {
          "base_uri": "https://localhost:8080/"
        },
        "outputId": "4f73fa8a-d1d7-4690-90ca-2c8b40cf266d"
      },
      "source": [
        "def process_menu_options():\n",
        "  #prints menu and asks the user which part they would like to see\n",
        "  menu = \"What value would you like to see?\" + \"\\n\" + \"1.Pi\" + \"\\n\" +\"2.Plank's constant\" + \"\\n\" + \"3.E\" + \"\\n\" + \"4.Square root of 2\"\n",
        "  print (menu)\n",
        "\n",
        "  menu_option = int(input(\"Please choose a menu option: \"))\n",
        "\n",
        "  if menu_option == 1:\n",
        "    print (\"3.14159265359\")\n",
        "  elif menu_option == 2:\n",
        "    print (\"6.62607004 × 10^-34\")\n",
        "  elif menu_option == 3:\n",
        "    print (\"2.71828\")\n",
        "  elif menu_option == 4:\n",
        "    print (\"1.414\")\n",
        "  else:\n",
        "    print (\"Invalid Choice\")\n",
        "\n",
        "process_menu_options()"
      ],
      "execution_count": null,
      "outputs": [
        {
          "output_type": "stream",
          "name": "stdout",
          "text": [
            "What value would you like to see?\n",
            "1.Pi\n",
            "2.Plank's constant\n",
            "3.E\n",
            "4.Square root of 2\n",
            "Please choose a menu option: 9\n",
            "Invalid Choice\n"
          ]
        }
      ]
    },
    {
      "cell_type": "markdown",
      "metadata": {
        "id": "R_42ktqd6m-O"
      },
      "source": [
        "---\n",
        "### Exercise 7 - positive or negative\n",
        "\n",
        "Write a function called **report_pos_or_neg()** which will:  \n",
        "\n",
        "*  ask a user to input a **number**  \n",
        "*  if the `number` is greater than 0, print `number` \"is a positive number\"\n",
        "*  otherwise if it is less than 0 print `number` \"is a negative number  \n",
        "*  otherwise print `number` \"is neither positive or negative\"\n",
        "\n",
        "Test Inputs:  \n",
        "0  \n",
        "50  \n",
        "-50\n",
        "\n",
        "Expected outputs:\n",
        "0 is neither positive or negative  \n",
        "50 is a positive number  \n",
        "-50 is a negative number  "
      ]
    },
    {
      "cell_type": "code",
      "metadata": {
        "id": "g2V-Ft_S8W6u",
        "colab": {
          "base_uri": "https://localhost:8080/"
        },
        "outputId": "21b71739-d3fc-4e1f-dbda-351f600b8868"
      },
      "source": [
        "def report_pos_or_neg():\n",
        "  #tells you if number is positive or negative\n",
        "  number = int(input(\"Please input a number: \"))\n",
        "\n",
        "  if number > 0:\n",
        "    print (number, \"is a positive number\")\n",
        "  elif number < 0:\n",
        "    print (number, \"is a negative number\")\n",
        "  else:\n",
        "    print (number, \"is neither positive or negative\")\n",
        "\n",
        "report_pos_or_neg()"
      ],
      "execution_count": null,
      "outputs": [
        {
          "output_type": "stream",
          "name": "stdout",
          "text": [
            "Please input a number: -50\n",
            "-50 is a negative number\n"
          ]
        }
      ]
    },
    {
      "cell_type": "markdown",
      "metadata": {
        "id": "xypYjlmR8XgM"
      },
      "source": [
        "---\n",
        "### Exercise 8 - traffic light actions  \n",
        "\n",
        "Write a function called **act_on_light()** which will:\n",
        "\n",
        "*  ask the user to enter a traffic light **colour**  \n",
        "*  if the `colour` is \"red\" print the message \"Stop the car\"  \n",
        "*  otherwise if the `colour` is \"amber\" print the message \"Be ready to stop\"  \n",
        "*  otherwise if the `colour` is \"green\" print the message \"Continue forward\"  \n",
        "*  otherwise if the `colour` is \"red and amber\" print the message \"Get ready to go\"  \n",
        "*  otherwise print \"That is not a traffic light colour\"  \n",
        "\n",
        "Test inputs:  \n",
        "red  \n",
        "amber  \n",
        "red and amber  \n",
        "blue    \n",
        "\n",
        "Expected output:  \n",
        "Stop the car  \n",
        "Be ready to stop  \n",
        "Get ready to go  \n",
        "That is not a traffic light colour  "
      ]
    },
    {
      "cell_type": "code",
      "metadata": {
        "id": "8UDIQJpa-SUx",
        "colab": {
          "base_uri": "https://localhost:8080/"
        },
        "outputId": "a62f0880-4cf0-4245-9a9e-43bf9eda8d18"
      },
      "source": [
        "def act_on_light():\n",
        "  #functions of traffic light colours\n",
        "  colour = input(\" enter a traffic light colour e.g red: \")\n",
        "\n",
        "  if colour == \"red\":\n",
        "    print (\"Stop the car\")\n",
        "  elif colour == \"amber\":\n",
        "    print (\"Be ready to stop\")\n",
        "  elif colour == \"green\":\n",
        "    print (\"Continue forward\")\n",
        "  elif colour == \"red and amber\":\n",
        "    print (\"Get ready to go\")\n",
        "  else:\n",
        "    print (\"That is not a traffic light colour\")\n",
        "\n",
        "act_on_light()"
      ],
      "execution_count": null,
      "outputs": [
        {
          "output_type": "stream",
          "name": "stdout",
          "text": [
            " enter a traffic light colour e.g red: blue\n",
            "That is not a traffic light colour\n"
          ]
        }
      ]
    },
    {
      "cell_type": "markdown",
      "metadata": {
        "id": "rB4N8OaU-Sls"
      },
      "source": [
        "---\n",
        "### Exercise 9 - dealing with capitals\n",
        "\n",
        "Write a function called **check_capital()** which will:\n",
        "\n",
        "*  ask the user what is the **capital** city of Scotland  \n",
        "*  If they answer correctly (Edinburgh), tell them that they are correct, Edinburgh is the capital city. If they enter anything else, tell them \"No, Edinburgh is the capital city\"\n",
        "\n",
        "Test Inputs:  \n",
        "London  \n",
        "Edinburgh  \n",
        "edinburgh\n",
        "\n",
        "Expected output:\n",
        "No, Edinburgh is the capital city  \n",
        "You are correct, Edinburgh is the capital city  \n",
        "No, Edinburgh is the capital city  \n",
        "\n",
        "*(think about why it is likely that the output here is incorrect, and change the code to make it work)*"
      ]
    },
    {
      "cell_type": "code",
      "metadata": {
        "id": "MK3hL3Do_mOe",
        "colab": {
          "base_uri": "https://localhost:8080/"
        },
        "outputId": "13f43f00-6883-4fe4-945d-ca851211640a"
      },
      "source": [
        "def check_capital():\n",
        "  #what is the capital of Scotland? are you correct?\n",
        "  capital = input(\"What is the capital city of Scotland? \")\n",
        "  capital = capital.capitalize()\n",
        "\n",
        "  if capital == \"Edinburgh\":\n",
        "    print (\"You are correct, Edinburgh is the capital city\")\n",
        "  else:\n",
        "    print (\"No, Edinburgh is the capital city\")\n",
        "\n",
        "check_capital()"
      ],
      "execution_count": null,
      "outputs": [
        {
          "output_type": "stream",
          "name": "stdout",
          "text": [
            "What is the capital city of Scotland? edinburgh\n",
            "You are correct, Edinburgh is the capital city\n"
          ]
        }
      ]
    },
    {
      "cell_type": "markdown",
      "metadata": {
        "id": "pouR5V6b_mYV"
      },
      "source": [
        "---\n",
        "### Exercise 10 - calculator\n",
        "\n",
        "Write a function called **calculate()** which will:\n",
        "\n",
        "*  asks the user for 2 numbers (**num1** and **num2**) and an **operator** (+, -, /, *)\n",
        "\n",
        "Use *if* statements to allow the user to perform calculations on these 2 numbers and provide the answer in a print statement.\n",
        "\n",
        "Test Inputs:  \n",
        "num1 = 2, num2 = 3, operator = +  \n",
        "num1 = 2, num2 = 3, operator = -  \n",
        "num1 = 2, num2 = 3, operator = *  \n",
        "num1 = 2, num2 = 3, operator = /  \n",
        "\n",
        "Expected output:  \n",
        "Your answer is 5  \n",
        "Your answer is -1  \n",
        "Your answer is 6  \n",
        "Your answer is 0.6666666666  "
      ]
    },
    {
      "cell_type": "code",
      "metadata": {
        "id": "Q7I1hiAj5AhE",
        "colab": {
          "base_uri": "https://localhost:8080/"
        },
        "outputId": "9d142939-7ed3-4ab1-fcc0-0d81c1a6cf14"
      },
      "source": [
        "def calculate():\n",
        "  #does a simple calcuation for you\n",
        "  num1 = int(input(\"Please input a number e.g. 1: \"))\n",
        "  num2 = int(input(\"Please input a number e.g. 2: \"))\n",
        "  operator = input(\"Please input an operator e.g. + : \")\n",
        "\n",
        "  if operator == \"+\":\n",
        "    print (\"Your answer is \" + str(num1 + num2))\n",
        "  elif operator == \"-\":\n",
        "    print (\"Your answer is \" + str(num1 - num2))\n",
        "  elif operator == \"*\":\n",
        "    print (\"Your answer is \" + str(num1 * num2))\n",
        "  elif operator == \"/\":\n",
        "    print (\"Your answer is \" + str(num1 / num2))\n",
        "\n",
        "calculate()"
      ],
      "execution_count": null,
      "outputs": [
        {
          "output_type": "stream",
          "name": "stdout",
          "text": [
            "Please input a number e.g. 1: 2\n",
            "Please input a number e.g. 2: 3\n",
            "Please input an operator e.g. + : /\n",
            "Your answer is 0.6666666666666666\n"
          ]
        }
      ]
    },
    {
      "cell_type": "markdown",
      "source": [
        "---\n",
        "# Takeaways\n",
        "*  where a decision is needed we need to ask if something is the case and then do something if it is\n",
        "*  if something isn't the case, we need to specify what the alternative action is (else)  \n",
        "*  if there is a range of different actions, we would ask **if** the one most likely to be the case is true, then use **elif** to ask if other options are true, we would use **else** to catch anything that hasn't been specifically tested\n",
        "*  selection is key to problem solving and this allows the code to follow different paths depending on what it knows so far\n",
        "*  selection is particularly useful in data processing in validating data as it is received (e.g. is this a valid date, is this number within range, is this item of the right data type)\n",
        "*  selection is also very useful in cleaning data (identifying where data is missing and either removing the row, or changing the data to a default."
      ],
      "metadata": {
        "id": "bvCJBcT_mcpN"
      }
    },
    {
      "cell_type": "markdown",
      "source": [
        "# Your thoughts on what you have learnt  \n",
        "\n",
        "Please add some comments in the box below to reflect on what you have learnt through completing this worksheet, and any problems you encountered while doing so."
      ],
      "metadata": {
        "id": "rfILSgYRmeM7"
      }
    },
    {
      "cell_type": "markdown",
      "source": [
        "I mentioned to Karen that I have previously done similar work in excel to this so I could this to be very familiar. I think the indentation of Python helps me understand the pathway I am following which makes my work a lot easier.\n",
        "\n",
        "I did have an issue where I couldnt get my input to capitalise on exercise 9 but then I looked it up and I was using the wrong spelling of \"capitalize\". I'm glad I realised this early on in learning python as I think it will be more memorable in the future if I"
      ],
      "metadata": {
        "id": "N4C5t6bRmfPa"
      }
    }
  ]
}